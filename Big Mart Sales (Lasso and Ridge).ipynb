{
 "cells": [
  {
   "cell_type": "markdown",
   "metadata": {},
   "source": [
    "## Sales Prediction for Big Mart Outlets\n",
    "The data scientists at BigMart have collected 2013 sales data for 1559 products across 10 stores in different cities. Also, certain attributes of each product and store have been defined. The aim is to build a predictive model and predict the sales of each product at a particular outlet.\n",
    "\n",
    "Using this model, BigMart will try to understand the properties of products and outlets which play a key role in increasing sales.\n",
    "\n",
    "Please note that the data may have missing values as some stores might not report all the data due to technical glitches. Hence, it will be required to treat them accordingly.\n",
    "\n",
    "**train (8523) and test (5681)**"
   ]
  },
  {
   "cell_type": "code",
   "execution_count": 1,
   "metadata": {},
   "outputs": [],
   "source": [
    "# Importing Libraries\n",
    "\n",
    "import pandas as pd \n",
    "import numpy as np\n",
    "import matplotlib.pyplot as plt\n",
    "import seaborn as sns\n",
    "\n",
    "# to suppress warnings \n",
    "from warnings import filterwarnings\n",
    "filterwarnings('ignore')\n",
    "\n",
    "# import train-test split \n",
    "from sklearn.model_selection import train_test_split\n",
    "\n",
    "# import 'stats'\n",
    "from scipy import stats\n",
    "\n",
    "#Plotting Parameters\n",
    "plt.rcParams['figure.figsize'] = [15,8]"
   ]
  },
  {
   "cell_type": "code",
   "execution_count": 2,
   "metadata": {},
   "outputs": [],
   "source": [
    "# Training Data Set\n",
    "train = pd.read_csv('train_v9rqX0R.csv')\n",
    "test = pd.read_csv('test_AbJTz2l.csv')"
   ]
  },
  {
   "cell_type": "code",
   "execution_count": 3,
   "metadata": {},
   "outputs": [
    {
     "data": {
      "text/plain": [
       "((8523, 12), (5681, 11))"
      ]
     },
     "execution_count": 3,
     "metadata": {},
     "output_type": "execute_result"
    }
   ],
   "source": [
    "# Dimensions of Data\n",
    "train.shape, test.shape"
   ]
  },
  {
   "cell_type": "markdown",
   "metadata": {},
   "source": [
    "### EDA\n",
    "\n",
    "    1. UniVariate Analysis\n",
    "    2. Bi-Variate Analysis"
   ]
  },
  {
   "cell_type": "code",
   "execution_count": 4,
   "metadata": {},
   "outputs": [
    {
     "data": {
      "text/html": [
       "<div>\n",
       "<style scoped>\n",
       "    .dataframe tbody tr th:only-of-type {\n",
       "        vertical-align: middle;\n",
       "    }\n",
       "\n",
       "    .dataframe tbody tr th {\n",
       "        vertical-align: top;\n",
       "    }\n",
       "\n",
       "    .dataframe thead th {\n",
       "        text-align: right;\n",
       "    }\n",
       "</style>\n",
       "<table border=\"1\" class=\"dataframe\">\n",
       "  <thead>\n",
       "    <tr style=\"text-align: right;\">\n",
       "      <th></th>\n",
       "      <th>Item_Identifier</th>\n",
       "      <th>Item_Weight</th>\n",
       "      <th>Item_Fat_Content</th>\n",
       "      <th>Item_Visibility</th>\n",
       "      <th>Item_Type</th>\n",
       "      <th>Item_MRP</th>\n",
       "      <th>Outlet_Identifier</th>\n",
       "      <th>Outlet_Establishment_Year</th>\n",
       "      <th>Outlet_Size</th>\n",
       "      <th>Outlet_Location_Type</th>\n",
       "      <th>Outlet_Type</th>\n",
       "      <th>Item_Outlet_Sales</th>\n",
       "    </tr>\n",
       "  </thead>\n",
       "  <tbody>\n",
       "    <tr>\n",
       "      <td>0</td>\n",
       "      <td>FDA15</td>\n",
       "      <td>9.30</td>\n",
       "      <td>Low Fat</td>\n",
       "      <td>0.016047</td>\n",
       "      <td>Dairy</td>\n",
       "      <td>249.8092</td>\n",
       "      <td>OUT049</td>\n",
       "      <td>1999</td>\n",
       "      <td>Medium</td>\n",
       "      <td>Tier 1</td>\n",
       "      <td>Supermarket Type1</td>\n",
       "      <td>3735.1380</td>\n",
       "    </tr>\n",
       "    <tr>\n",
       "      <td>1</td>\n",
       "      <td>DRC01</td>\n",
       "      <td>5.92</td>\n",
       "      <td>Regular</td>\n",
       "      <td>0.019278</td>\n",
       "      <td>Soft Drinks</td>\n",
       "      <td>48.2692</td>\n",
       "      <td>OUT018</td>\n",
       "      <td>2009</td>\n",
       "      <td>Medium</td>\n",
       "      <td>Tier 3</td>\n",
       "      <td>Supermarket Type2</td>\n",
       "      <td>443.4228</td>\n",
       "    </tr>\n",
       "    <tr>\n",
       "      <td>2</td>\n",
       "      <td>FDN15</td>\n",
       "      <td>17.50</td>\n",
       "      <td>Low Fat</td>\n",
       "      <td>0.016760</td>\n",
       "      <td>Meat</td>\n",
       "      <td>141.6180</td>\n",
       "      <td>OUT049</td>\n",
       "      <td>1999</td>\n",
       "      <td>Medium</td>\n",
       "      <td>Tier 1</td>\n",
       "      <td>Supermarket Type1</td>\n",
       "      <td>2097.2700</td>\n",
       "    </tr>\n",
       "    <tr>\n",
       "      <td>3</td>\n",
       "      <td>FDX07</td>\n",
       "      <td>19.20</td>\n",
       "      <td>Regular</td>\n",
       "      <td>0.000000</td>\n",
       "      <td>Fruits and Vegetables</td>\n",
       "      <td>182.0950</td>\n",
       "      <td>OUT010</td>\n",
       "      <td>1998</td>\n",
       "      <td>NaN</td>\n",
       "      <td>Tier 3</td>\n",
       "      <td>Grocery Store</td>\n",
       "      <td>732.3800</td>\n",
       "    </tr>\n",
       "    <tr>\n",
       "      <td>4</td>\n",
       "      <td>NCD19</td>\n",
       "      <td>8.93</td>\n",
       "      <td>Low Fat</td>\n",
       "      <td>0.000000</td>\n",
       "      <td>Household</td>\n",
       "      <td>53.8614</td>\n",
       "      <td>OUT013</td>\n",
       "      <td>1987</td>\n",
       "      <td>High</td>\n",
       "      <td>Tier 3</td>\n",
       "      <td>Supermarket Type1</td>\n",
       "      <td>994.7052</td>\n",
       "    </tr>\n",
       "  </tbody>\n",
       "</table>\n",
       "</div>"
      ],
      "text/plain": [
       "  Item_Identifier  Item_Weight Item_Fat_Content  Item_Visibility  \\\n",
       "0           FDA15         9.30          Low Fat         0.016047   \n",
       "1           DRC01         5.92          Regular         0.019278   \n",
       "2           FDN15        17.50          Low Fat         0.016760   \n",
       "3           FDX07        19.20          Regular         0.000000   \n",
       "4           NCD19         8.93          Low Fat         0.000000   \n",
       "\n",
       "               Item_Type  Item_MRP Outlet_Identifier  \\\n",
       "0                  Dairy  249.8092            OUT049   \n",
       "1            Soft Drinks   48.2692            OUT018   \n",
       "2                   Meat  141.6180            OUT049   \n",
       "3  Fruits and Vegetables  182.0950            OUT010   \n",
       "4              Household   53.8614            OUT013   \n",
       "\n",
       "   Outlet_Establishment_Year Outlet_Size Outlet_Location_Type  \\\n",
       "0                       1999      Medium               Tier 1   \n",
       "1                       2009      Medium               Tier 3   \n",
       "2                       1999      Medium               Tier 1   \n",
       "3                       1998         NaN               Tier 3   \n",
       "4                       1987        High               Tier 3   \n",
       "\n",
       "         Outlet_Type  Item_Outlet_Sales  \n",
       "0  Supermarket Type1          3735.1380  \n",
       "1  Supermarket Type2           443.4228  \n",
       "2  Supermarket Type1          2097.2700  \n",
       "3      Grocery Store           732.3800  \n",
       "4  Supermarket Type1           994.7052  "
      ]
     },
     "execution_count": 4,
     "metadata": {},
     "output_type": "execute_result"
    }
   ],
   "source": [
    "train.head()\n",
    "\n",
    "# Item Visibility has 0s which is imperfect\n",
    "# Outlet Establishment Year Might not be adding to model, would make model try to overfit\n"
   ]
  },
  {
   "cell_type": "code",
   "execution_count": 5,
   "metadata": {},
   "outputs": [
    {
     "data": {
      "image/png": "[encoded data removed]",
      "text/plain": [
       "<Figure size 432x288 with 1 Axes>"
      ]
     },
     "metadata": {
      "needs_background": "light"
     },
     "output_type": "display_data"
    }
   ],
   "source": [
    "# Target Variable\n",
    "sns.distplot(train.Item_Outlet_Sales)\n",
    "plt.show()"
   ]
  },
  {
   "cell_type": "code",
   "execution_count": 6,
   "metadata": {},
   "outputs": [
    {
     "data": {
      "text/plain": [
       "count     8523.000000\n",
       "mean      2181.288914\n",
       "std       1706.499616\n",
       "min         33.290000\n",
       "25%        834.247400\n",
       "50%       1794.331000\n",
       "75%       3101.296400\n",
       "max      13086.964800\n",
       "Name: Item_Outlet_Sales, dtype: float64"
      ]
     },
     "execution_count": 6,
     "metadata": {},
     "output_type": "execute_result"
    }
   ],
   "source": [
    "train.Item_Outlet_Sales.describe()"
   ]
  },
  {
   "cell_type": "markdown",
   "metadata": {},
   "source": [
    "#### First Submission - Base Model\n",
    "\n",
    "Average"
   ]
  },
  {
   "cell_type": "code",
   "execution_count": 7,
   "metadata": {},
   "outputs": [
    {
     "data": {
      "text/plain": [
       "2181.2889135750365"
      ]
     },
     "execution_count": 7,
     "metadata": {},
     "output_type": "execute_result"
    }
   ],
   "source": [
    "train.Item_Outlet_Sales.mean()"
   ]
  },
  {
   "cell_type": "code",
   "execution_count": 8,
   "metadata": {},
   "outputs": [],
   "source": [
    "# Submission File\n",
    "solution = pd.DataFrame({'Item_Identifier' : test.Item_Identifier,\n",
    "                         'Outlet_Identifier' : test.Outlet_Identifier,\n",
    "                         'Item_Outlet_Sales' : train.Item_Outlet_Sales.mean()})"
   ]
  },
  {
   "cell_type": "code",
   "execution_count": 9,
   "metadata": {},
   "outputs": [
    {
     "data": {
      "text/html": [
       "<div>\n",
       "<style scoped>\n",
       "    .dataframe tbody tr th:only-of-type {\n",
       "        vertical-align: middle;\n",
       "    }\n",
       "\n",
       "    .dataframe tbody tr th {\n",
       "        vertical-align: top;\n",
       "    }\n",
       "\n",
       "    .dataframe thead th {\n",
       "        text-align: right;\n",
       "    }\n",
       "</style>\n",
       "<table border=\"1\" class=\"dataframe\">\n",
       "  <thead>\n",
       "    <tr style=\"text-align: right;\">\n",
       "      <th></th>\n",
       "      <th>Item_Identifier</th>\n",
       "      <th>Outlet_Identifier</th>\n",
       "      <th>Item_Outlet_Sales</th>\n",
       "    </tr>\n",
       "  </thead>\n",
       "  <tbody>\n",
       "    <tr>\n",
       "      <td>0</td>\n",
       "      <td>FDW58</td>\n",
       "      <td>OUT049</td>\n",
       "      <td>2181.288914</td>\n",
       "    </tr>\n",
       "    <tr>\n",
       "      <td>1</td>\n",
       "      <td>FDW14</td>\n",
       "      <td>OUT017</td>\n",
       "      <td>2181.288914</td>\n",
       "    </tr>\n",
       "    <tr>\n",
       "      <td>2</td>\n",
       "      <td>NCN55</td>\n",
       "      <td>OUT010</td>\n",
       "      <td>2181.288914</td>\n",
       "    </tr>\n",
       "    <tr>\n",
       "      <td>3</td>\n",
       "      <td>FDQ58</td>\n",
       "      <td>OUT017</td>\n",
       "      <td>2181.288914</td>\n",
       "    </tr>\n",
       "    <tr>\n",
       "      <td>4</td>\n",
       "      <td>FDY38</td>\n",
       "      <td>OUT027</td>\n",
       "      <td>2181.288914</td>\n",
       "    </tr>\n",
       "  </tbody>\n",
       "</table>\n",
       "</div>"
      ],
      "text/plain": [
       "  Item_Identifier Outlet_Identifier  Item_Outlet_Sales\n",
       "0           FDW58            OUT049        2181.288914\n",
       "1           FDW14            OUT017        2181.288914\n",
       "2           NCN55            OUT010        2181.288914\n",
       "3           FDQ58            OUT017        2181.288914\n",
       "4           FDY38            OUT027        2181.288914"
      ]
     },
     "execution_count": 9,
     "metadata": {},
     "output_type": "execute_result"
    }
   ],
   "source": [
    "solution.head()"
   ]
  },
  {
   "cell_type": "code",
   "execution_count": 10,
   "metadata": {},
   "outputs": [],
   "source": [
    "# Export to csv\n",
    "solution.to_csv('BaseModel.csv',index=False) #Name with Extension, Index-False"
   ]
  },
  {
   "cell_type": "code",
   "execution_count": 11,
   "metadata": {},
   "outputs": [
    {
     "name": "stdout",
     "output_type": "stream",
     "text": [
      "C:\\Users\\admin\n"
     ]
    }
   ],
   "source": [
    "cd"
   ]
  },
  {
   "cell_type": "markdown",
   "metadata": {},
   "source": [
    "#### Base Model RMSE : 1773.825"
   ]
  },
  {
   "cell_type": "markdown",
   "metadata": {},
   "source": [
    "### Uni-Variate Analysis"
   ]
  },
  {
   "cell_type": "code",
   "execution_count": 12,
   "metadata": {},
   "outputs": [
    {
     "data": {
      "text/plain": [
       "<matplotlib.axes._subplots.AxesSubplot at 0x2588d18a948>"
      ]
     },
     "execution_count": 12,
     "metadata": {},
     "output_type": "execute_result"
    },
    {
     "data": {
      "image/png": "[encoded data removed]",
      "text/plain": [
       "<Figure size 432x288 with 1 Axes>"
      ]
     },
     "metadata": {
      "needs_background": "light"
     },
     "output_type": "display_data"
    }
   ],
   "source": [
    "# Item_Weight\n",
    "sns.distplot(train.Item_Weight.dropna())"
   ]
  },
  {
   "cell_type": "code",
   "execution_count": 13,
   "metadata": {},
   "outputs": [
    {
     "data": {
      "text/plain": [
       "<matplotlib.axes._subplots.AxesSubplot at 0x2588d5a5088>"
      ]
     },
     "execution_count": 13,
     "metadata": {},
     "output_type": "execute_result"
    },
    {
     "data": {
      "image/png": "[encoded data removed]",
      "text/plain": [
       "<Figure size 432x288 with 1 Axes>"
      ]
     },
     "metadata": {
      "needs_background": "light"
     },
     "output_type": "display_data"
    }
   ],
   "source": [
    "# Item_Visibility\n",
    "sns.distplot(train.Item_Visibility,color='g')"
   ]
  },
  {
   "cell_type": "code",
   "execution_count": 14,
   "metadata": {},
   "outputs": [
    {
     "data": {
      "text/plain": [
       "<matplotlib.axes._subplots.AxesSubplot at 0x2588d7c7208>"
      ]
     },
     "execution_count": 14,
     "metadata": {},
     "output_type": "execute_result"
    },
    {
     "data": {
      "image/png": "[encoded data removed]",
      "text/plain": [
       "<Figure size 432x288 with 1 Axes>"
      ]
     },
     "metadata": {
      "needs_background": "light"
     },
     "output_type": "display_data"
    }
   ],
   "source": [
    "# Item_MRP\n",
    "sns.distplot(train.Item_MRP)\n",
    "\n",
    "# Multi-Modal\n",
    "# Different Data Distributions\n",
    "# Will Use Bi-Variate Analysis to understand Further"
   ]
  },
  {
   "cell_type": "code",
   "execution_count": 15,
   "metadata": {},
   "outputs": [
    {
     "data": {
      "text/plain": [
       "Index(['Item_Identifier', 'Item_Weight', 'Item_Fat_Content', 'Item_Visibility',\n",
       "       'Item_Type', 'Item_MRP', 'Outlet_Identifier',\n",
       "       'Outlet_Establishment_Year', 'Outlet_Size', 'Outlet_Location_Type',\n",
       "       'Outlet_Type', 'Item_Outlet_Sales'],\n",
       "      dtype='object')"
      ]
     },
     "execution_count": 15,
     "metadata": {},
     "output_type": "execute_result"
    }
   ],
   "source": [
    "train.columns"
   ]
  },
  {
   "cell_type": "code",
   "execution_count": 16,
   "metadata": {},
   "outputs": [
    {
     "data": {
      "text/plain": [
       "Low Fat    5089\n",
       "Regular    2889\n",
       "LF          316\n",
       "reg         117\n",
       "low fat     112\n",
       "Name: Item_Fat_Content, dtype: int64"
      ]
     },
     "execution_count": 16,
     "metadata": {},
     "output_type": "execute_result"
    }
   ],
   "source": [
    "# Single Category - countplot | value_counts then plotting frequency\n",
    "train.Item_Fat_Content.value_counts()"
   ]
  },
  {
   "cell_type": "code",
   "execution_count": 17,
   "metadata": {},
   "outputs": [
    {
     "data": {
      "text/plain": [
       "Low Fat    5517\n",
       "Regular    3006\n",
       "Name: Item_Fat_Content, dtype: int64"
      ]
     },
     "execution_count": 17,
     "metadata": {},
     "output_type": "execute_result"
    }
   ],
   "source": [
    "# Fixing the Item Fat Content\n",
    "train.Item_Fat_Content.replace(['reg','LF','low fat'],['Regular','Low Fat','Low Fat'],inplace=True)\n",
    "train.Item_Fat_Content.value_counts()"
   ]
  },
  {
   "cell_type": "code",
   "execution_count": 18,
   "metadata": {},
   "outputs": [
    {
     "data": {
      "text/plain": [
       "Low Fat    3668\n",
       "Regular    2013\n",
       "Name: Item_Fat_Content, dtype: int64"
      ]
     },
     "execution_count": 18,
     "metadata": {},
     "output_type": "execute_result"
    }
   ],
   "source": [
    "# Doing the Same for Test\n",
    "# Fixing the Item Fat Content\n",
    "test.Item_Fat_Content.replace(['reg','LF','low fat'],['Regular','Low Fat','Low Fat'],inplace=True)\n",
    "test.Item_Fat_Content.value_counts()"
   ]
  },
  {
   "cell_type": "code",
   "execution_count": 19,
   "metadata": {
    "scrolled": true
   },
   "outputs": [
    {
     "data": {
      "text/plain": [
       "<matplotlib.axes._subplots.AxesSubplot at 0x2588d875b08>"
      ]
     },
     "execution_count": 19,
     "metadata": {},
     "output_type": "execute_result"
    },
    {
     "data": {
      "image/png": "[encoded data removed]",
      "text/plain": [
       "<Figure size 432x288 with 1 Axes>"
      ]
     },
     "metadata": {
      "needs_background": "light"
     },
     "output_type": "display_data"
    }
   ],
   "source": [
    "sns.countplot(train.Item_Fat_Content)"
   ]
  },
  {
   "cell_type": "code",
   "execution_count": 20,
   "metadata": {},
   "outputs": [
    {
     "data": {
      "text/plain": [
       "Fruits and Vegetables    1232\n",
       "Snack Foods              1200\n",
       "Household                 910\n",
       "Frozen Foods              856\n",
       "Dairy                     682\n",
       "Canned                    649\n",
       "Baking Goods              648\n",
       "Health and Hygiene        520\n",
       "Soft Drinks               445\n",
       "Meat                      425\n",
       "Breads                    251\n",
       "Hard Drinks               214\n",
       "Others                    169\n",
       "Starchy Foods             148\n",
       "Breakfast                 110\n",
       "Seafood                    64\n",
       "Name: Item_Type, dtype: int64"
      ]
     },
     "execution_count": 20,
     "metadata": {},
     "output_type": "execute_result"
    }
   ],
   "source": [
    "# Item Type\n",
    "train.Item_Type.value_counts()"
   ]
  },
  {
   "cell_type": "code",
   "execution_count": 21,
   "metadata": {},
   "outputs": [
    {
     "data": {
      "text/plain": [
       "<matplotlib.axes._subplots.AxesSubplot at 0x2588d29c208>"
      ]
     },
     "execution_count": 21,
     "metadata": {},
     "output_type": "execute_result"
    },
    {
     "data": {
      "image/png": "[encoded data removed]",
      "text/plain": [
       "<Figure size 432x288 with 1 Axes>"
      ]
     },
     "metadata": {
      "needs_background": "light"
     },
     "output_type": "display_data"
    }
   ],
   "source": [
    "train.Item_Type.value_counts().plot(kind='bar')"
   ]
  },
  {
   "cell_type": "code",
   "execution_count": 22,
   "metadata": {},
   "outputs": [
    {
     "data": {
      "text/plain": [
       "<matplotlib.axes._subplots.AxesSubplot at 0x2588d8a2848>"
      ]
     },
     "execution_count": 22,
     "metadata": {},
     "output_type": "execute_result"
    },
    {
     "data": {
      "image/png": "[encoded data removed]",
      "text/plain": [
       "<Figure size 432x288 with 1 Axes>"
      ]
     },
     "metadata": {
      "needs_background": "light"
     },
     "output_type": "display_data"
    }
   ],
   "source": [
    "# Outlet Id\n",
    "train.Outlet_Identifier.value_counts().plot(kind='bar')\n",
    "\n",
    "# OUT027 has Highest Frequency - Sale will also be higher for this Outlet.."
   ]
  },
  {
   "cell_type": "code",
   "execution_count": 23,
   "metadata": {},
   "outputs": [
    {
     "data": {
      "text/plain": [
       "<matplotlib.axes._subplots.AxesSubplot at 0x2588d927e08>"
      ]
     },
     "execution_count": 23,
     "metadata": {},
     "output_type": "execute_result"
    },
    {
     "data": {
      "image/png": "[encoded data removed]",
      "text/plain": [
       "<Figure size 432x288 with 1 Axes>"
      ]
     },
     "metadata": {
      "needs_background": "light"
     },
     "output_type": "display_data"
    }
   ],
   "source": [
    "# Outlet Size\n",
    "train.Outlet_Size.value_counts().plot(kind='bar')\n",
    "\n",
    "# May be OUT027 - Medium Size"
   ]
  },
  {
   "cell_type": "code",
   "execution_count": 24,
   "metadata": {},
   "outputs": [
    {
     "data": {
      "text/plain": [
       "Tier 3    3350\n",
       "Tier 2    2785\n",
       "Tier 1    2388\n",
       "Name: Outlet_Location_Type, dtype: int64"
      ]
     },
     "execution_count": 24,
     "metadata": {},
     "output_type": "execute_result"
    }
   ],
   "source": [
    "# Outlet Location Type\n",
    "train.Outlet_Location_Type.value_counts()"
   ]
  },
  {
   "cell_type": "code",
   "execution_count": 25,
   "metadata": {},
   "outputs": [
    {
     "data": {
      "text/plain": [
       "Supermarket Type1    5577\n",
       "Grocery Store        1083\n",
       "Supermarket Type3     935\n",
       "Supermarket Type2     928\n",
       "Name: Outlet_Type, dtype: int64"
      ]
     },
     "execution_count": 25,
     "metadata": {},
     "output_type": "execute_result"
    }
   ],
   "source": [
    "train.Outlet_Type.value_counts()"
   ]
  },
  {
   "cell_type": "markdown",
   "metadata": {},
   "source": [
    "### Summary of Univariate Analysis\n",
    "\n",
    "* Mean Sales is 2100 dollars and the min and max are 33 and 13000 resp.\n",
    "* Product Types - Low Fat and Regular\n",
    "* Top 3 Selling Items - **Fruits and Veggies, Snack Foods and Household Items**\n",
    "* The Outlet readily available is **Out027**\n",
    "* Most of the Outlets are **Medium** sized outlet.\n",
    "* **Tier 3** Location has the highest no of Outlets.\n",
    "* **S1** is the most seen Outlet Type\n"
   ]
  },
  {
   "cell_type": "markdown",
   "metadata": {},
   "source": [
    "### Bi-Variate Analysis\n",
    "    1. Num vs Num (Pred vs Tgt)\n",
    "    2. Cat vs Num (Cat vs Tgt)"
   ]
  },
  {
   "cell_type": "code",
   "execution_count": 26,
   "metadata": {},
   "outputs": [],
   "source": [
    "# Num vs Num"
   ]
  },
  {
   "cell_type": "code",
   "execution_count": 27,
   "metadata": {},
   "outputs": [
    {
     "data": {
      "text/plain": [
       "Text(0.5, 1.0, 'Weight vs Sales')"
      ]
     },
     "execution_count": 27,
     "metadata": {},
     "output_type": "execute_result"
    },
    {
     "data": {
      "image/png": "[encoded data removed]",
      "text/plain": [
       "<Figure size 432x288 with 1 Axes>"
      ]
     },
     "metadata": {
      "needs_background": "light"
     },
     "output_type": "display_data"
    }
   ],
   "source": [
    "#  Item_Weight vs Sales\n",
    "plt.scatter(train.Item_Weight, train.Item_Outlet_Sales, color = 'm')\n",
    "plt.title('Weight vs Sales')\n",
    "\n",
    "# Inference - No Pattern between Weight and Sales"
   ]
  },
  {
   "cell_type": "code",
   "execution_count": 28,
   "metadata": {},
   "outputs": [
    {
     "data": {
      "text/plain": [
       "Text(0.5, 1.0, 'Visibility vs Sales')"
      ]
     },
     "execution_count": 28,
     "metadata": {},
     "output_type": "execute_result"
    },
    {
     "data": {
      "image/png": "[encoded data removed]",
      "text/plain": [
       "<Figure size 432x288 with 1 Axes>"
      ]
     },
     "metadata": {
      "needs_background": "light"
     },
     "output_type": "display_data"
    }
   ],
   "source": [
    "# Item_Visibility vs Sales\n",
    "plt.scatter(train.Item_Visibility, train.Item_Outlet_Sales, color = 'g')\n",
    "plt.title('Visibility vs Sales')\n",
    "\n",
    "# Inference - Bigger the Product Lesser the Sales\n",
    "# Straight Line on 0 needs fixing"
   ]
  },
  {
   "cell_type": "code",
   "execution_count": 29,
   "metadata": {},
   "outputs": [
    {
     "data": {
      "text/plain": [
       "Text(0.5, 1.0, 'MRP vs Sales')"
      ]
     },
     "execution_count": 29,
     "metadata": {},
     "output_type": "execute_result"
    },
    {
     "data": {
      "image/png": "[encoded data removed]",
      "text/plain": [
       "<Figure size 432x288 with 1 Axes>"
      ]
     },
     "metadata": {
      "needs_background": "light"
     },
     "output_type": "display_data"
    }
   ],
   "source": [
    "# MRP vs Sales\n",
    "plt.scatter(train.Item_MRP, train.Item_Outlet_Sales, color = 'm')\n",
    "plt.title('MRP vs Sales')\n",
    "\n",
    "# Inference - Higher MRP - Lesser Sales"
   ]
  },
  {
   "cell_type": "code",
   "execution_count": 30,
   "metadata": {},
   "outputs": [],
   "source": [
    "# Cat vs Num"
   ]
  },
  {
   "cell_type": "code",
   "execution_count": 31,
   "metadata": {},
   "outputs": [
    {
     "data": {
      "text/plain": [
       "<matplotlib.axes._subplots.AxesSubplot at 0x2588dade748>"
      ]
     },
     "execution_count": 31,
     "metadata": {},
     "output_type": "execute_result"
    },
    {
     "data": {
      "image/png": "[encoded data removed]",
      "text/plain": [
       "<Figure size 432x288 with 1 Axes>"
      ]
     },
     "metadata": {
      "needs_background": "light"
     },
     "output_type": "display_data"
    }
   ],
   "source": [
    "# Item_Fat_Content vs Sales\n",
    "sns.boxplot(train.Item_Fat_Content,train.Item_Outlet_Sales)\n",
    "\n",
    "# regular has higher 3rd quartile"
   ]
  },
  {
   "cell_type": "code",
   "execution_count": 32,
   "metadata": {},
   "outputs": [
    {
     "data": {
      "text/html": [
       "<div>\n",
       "<style scoped>\n",
       "    .dataframe tbody tr th:only-of-type {\n",
       "        vertical-align: middle;\n",
       "    }\n",
       "\n",
       "    .dataframe tbody tr th {\n",
       "        vertical-align: top;\n",
       "    }\n",
       "\n",
       "    .dataframe thead th {\n",
       "        text-align: right;\n",
       "    }\n",
       "</style>\n",
       "<table border=\"1\" class=\"dataframe\">\n",
       "  <thead>\n",
       "    <tr style=\"text-align: right;\">\n",
       "      <th></th>\n",
       "      <th>count</th>\n",
       "      <th>mean</th>\n",
       "      <th>std</th>\n",
       "      <th>min</th>\n",
       "      <th>25%</th>\n",
       "      <th>50%</th>\n",
       "      <th>75%</th>\n",
       "      <th>max</th>\n",
       "    </tr>\n",
       "    <tr>\n",
       "      <th>Item_Fat_Content</th>\n",
       "      <th></th>\n",
       "      <th></th>\n",
       "      <th></th>\n",
       "      <th></th>\n",
       "      <th></th>\n",
       "      <th></th>\n",
       "      <th></th>\n",
       "      <th></th>\n",
       "    </tr>\n",
       "  </thead>\n",
       "  <tbody>\n",
       "    <tr>\n",
       "      <td>Low Fat</td>\n",
       "      <td>5517.0</td>\n",
       "      <td>2157.711534</td>\n",
       "      <td>1697.973824</td>\n",
       "      <td>33.2900</td>\n",
       "      <td>826.2578</td>\n",
       "      <td>1765.0358</td>\n",
       "      <td>3050.69560</td>\n",
       "      <td>13086.9648</td>\n",
       "    </tr>\n",
       "    <tr>\n",
       "      <td>Regular</td>\n",
       "      <td>3006.0</td>\n",
       "      <td>2224.561170</td>\n",
       "      <td>1721.480865</td>\n",
       "      <td>33.9558</td>\n",
       "      <td>857.5504</td>\n",
       "      <td>1844.5989</td>\n",
       "      <td>3198.66965</td>\n",
       "      <td>12117.5600</td>\n",
       "    </tr>\n",
       "  </tbody>\n",
       "</table>\n",
       "</div>"
      ],
      "text/plain": [
       "                   count         mean          std      min       25%  \\\n",
       "Item_Fat_Content                                                        \n",
       "Low Fat           5517.0  2157.711534  1697.973824  33.2900  826.2578   \n",
       "Regular           3006.0  2224.561170  1721.480865  33.9558  857.5504   \n",
       "\n",
       "                        50%         75%         max  \n",
       "Item_Fat_Content                                     \n",
       "Low Fat           1765.0358  3050.69560  13086.9648  \n",
       "Regular           1844.5989  3198.66965  12117.5600  "
      ]
     },
     "execution_count": 32,
     "metadata": {},
     "output_type": "execute_result"
    }
   ],
   "source": [
    "# Statistical Summary of Boxplot above\n",
    "\n",
    "train.groupby('Item_Fat_Content')['Item_Outlet_Sales'].describe()"
   ]
  },
  {
   "cell_type": "code",
   "execution_count": 33,
   "metadata": {},
   "outputs": [
    {
     "data": {
      "text/plain": [
       "(array([ 0,  1,  2,  3,  4,  5,  6,  7,  8,  9, 10, 11, 12, 13, 14, 15]),\n",
       " <a list of 16 Text major ticklabel objects>)"
      ]
     },
     "execution_count": 33,
     "metadata": {},
     "output_type": "execute_result"
    },
    {
     "data": {
      "image/png": "[encoded data removed]",
      "text/plain": [
       "<Figure size 432x288 with 1 Axes>"
      ]
     },
     "metadata": {
      "needs_background": "light"
     },
     "output_type": "display_data"
    }
   ],
   "source": [
    "# Item_Type vs Sales\n",
    "sns.boxplot(train.Item_Type,train.Item_Outlet_Sales)\n",
    "plt.xticks(rotation=90)"
   ]
  },
  {
   "cell_type": "code",
   "execution_count": 34,
   "metadata": {},
   "outputs": [
    {
     "data": {
      "text/plain": [
       "<matplotlib.axes._subplots.AxesSubplot at 0x2588dd4da08>"
      ]
     },
     "execution_count": 34,
     "metadata": {},
     "output_type": "execute_result"
    },
    {
     "data": {
      "image/png": "[encoded data removed]",
      "text/plain": [
       "<Figure size 432x288 with 1 Axes>"
      ]
     },
     "metadata": {
      "needs_background": "light"
     },
     "output_type": "display_data"
    }
   ],
   "source": [
    "# Outlet_Id vs Sales\n",
    "sns.boxplot(train.Outlet_Identifier,train.Item_Outlet_Sales)\n",
    "\n",
    "# Inference - OUT027 & OUT013 have more sales while OUT010 & OUT019 have Least Sales"
   ]
  },
  {
   "cell_type": "code",
   "execution_count": 35,
   "metadata": {},
   "outputs": [
    {
     "data": {
      "text/plain": [
       "<matplotlib.axes._subplots.AxesSubplot at 0x2588d1fa388>"
      ]
     },
     "execution_count": 35,
     "metadata": {},
     "output_type": "execute_result"
    },
    {
     "data": {
      "image/png": "[encoded data removed]",
      "text/plain": [
       "<Figure size 432x288 with 1 Axes>"
      ]
     },
     "metadata": {
      "needs_background": "light"
     },
     "output_type": "display_data"
    }
   ],
   "source": [
    "# Outlet_Size vs Sales\n",
    "sns.boxplot(train.Outlet_Size,train.Item_Outlet_Sales)"
   ]
  },
  {
   "cell_type": "code",
   "execution_count": 36,
   "metadata": {},
   "outputs": [
    {
     "data": {
      "text/plain": [
       "<matplotlib.axes._subplots.AxesSubplot at 0x2588eebf348>"
      ]
     },
     "execution_count": 36,
     "metadata": {},
     "output_type": "execute_result"
    },
    {
     "data": {
      "image/png": "[encoded data removed]",
      "text/plain": [
       "<Figure size 432x288 with 1 Axes>"
      ]
     },
     "metadata": {
      "needs_background": "light"
     },
     "output_type": "display_data"
    }
   ],
   "source": [
    "# Outlet_LocationType vs Sales\n",
    "sns.boxplot(train.Outlet_Location_Type,train.Item_Outlet_Sales)"
   ]
  },
  {
   "cell_type": "code",
   "execution_count": 37,
   "metadata": {},
   "outputs": [
    {
     "data": {
      "text/plain": [
       "<matplotlib.axes._subplots.AxesSubplot at 0x2588ef47588>"
      ]
     },
     "execution_count": 37,
     "metadata": {},
     "output_type": "execute_result"
    },
    {
     "data": {
      "image/png": "[encoded data removed]",
      "text/plain": [
       "<Figure size 432x288 with 1 Axes>"
      ]
     },
     "metadata": {
      "needs_background": "light"
     },
     "output_type": "display_data"
    }
   ],
   "source": [
    "# Outlet_Type vs Sales\n",
    "sns.boxplot(train.Outlet_Type,train.Item_Outlet_Sales)"
   ]
  },
  {
   "cell_type": "markdown",
   "metadata": {},
   "source": [
    "### Summary of Bivariate Analysis:\n",
    "\n",
    "* Low Fat Items sell more than Regular\n",
    "* No pattern was found between weight and TGT\n",
    "* We saw interesting pattern between visibility & TGT\n",
    "* We also saw that there is a straight line at 0 in visibility plot which needs fixing.\n",
    "* OUT027 & Out013 earns the biggest revenue generator label & Out10 and Out 19 are the slow movers\n",
    "* S1 and S3 makes lot of money for the business.\n",
    "* Fast Moving Products are Fruits & Veggies, Snacks, Soft Drinks, Households...\n"
   ]
  },
  {
   "cell_type": "markdown",
   "metadata": {},
   "source": [
    "------------------"
   ]
  },
  {
   "cell_type": "markdown",
   "metadata": {},
   "source": [
    "### Missing Values"
   ]
  },
  {
   "cell_type": "code",
   "execution_count": 38,
   "metadata": {},
   "outputs": [
    {
     "data": {
      "text/plain": [
       "Item_Identifier                 0\n",
       "Item_Weight                  1463\n",
       "Item_Fat_Content                0\n",
       "Item_Visibility                 0\n",
       "Item_Type                       0\n",
       "Item_MRP                        0\n",
       "Outlet_Identifier               0\n",
       "Outlet_Establishment_Year       0\n",
       "Outlet_Size                  2410\n",
       "Outlet_Location_Type            0\n",
       "Outlet_Type                     0\n",
       "Item_Outlet_Sales               0\n",
       "dtype: int64"
      ]
     },
     "execution_count": 38,
     "metadata": {},
     "output_type": "execute_result"
    }
   ],
   "source": [
    "train.isnull().sum()\n",
    "\n",
    "# Item_Weight & Outlet_Size - Same Columns for Test and Train"
   ]
  },
  {
   "cell_type": "code",
   "execution_count": 39,
   "metadata": {},
   "outputs": [],
   "source": [
    "# Combine Train and Test\n",
    "combined = pd.concat([train,test],ignore_index=True)"
   ]
  },
  {
   "cell_type": "code",
   "execution_count": 40,
   "metadata": {},
   "outputs": [
    {
     "data": {
      "text/plain": [
       "Item_Fat_Content                0\n",
       "Item_Identifier                 0\n",
       "Item_MRP                        0\n",
       "Item_Outlet_Sales            5681\n",
       "Item_Type                       0\n",
       "Item_Visibility                 0\n",
       "Item_Weight                  2439\n",
       "Outlet_Establishment_Year       0\n",
       "Outlet_Identifier               0\n",
       "Outlet_Location_Type            0\n",
       "Outlet_Size                  4016\n",
       "Outlet_Type                     0\n",
       "dtype: int64"
      ]
     },
     "execution_count": 40,
     "metadata": {},
     "output_type": "execute_result"
    }
   ],
   "source": [
    "combined.isnull().sum()"
   ]
  },
  {
   "cell_type": "code",
   "execution_count": 41,
   "metadata": {},
   "outputs": [
    {
     "data": {
      "text/html": [
       "<div>\n",
       "<style scoped>\n",
       "    .dataframe tbody tr th:only-of-type {\n",
       "        vertical-align: middle;\n",
       "    }\n",
       "\n",
       "    .dataframe tbody tr th {\n",
       "        vertical-align: top;\n",
       "    }\n",
       "\n",
       "    .dataframe thead th {\n",
       "        text-align: right;\n",
       "    }\n",
       "</style>\n",
       "<table border=\"1\" class=\"dataframe\">\n",
       "  <thead>\n",
       "    <tr style=\"text-align: right;\">\n",
       "      <th></th>\n",
       "      <th>Item_Fat_Content</th>\n",
       "      <th>Item_Identifier</th>\n",
       "      <th>Item_MRP</th>\n",
       "      <th>Item_Outlet_Sales</th>\n",
       "      <th>Item_Type</th>\n",
       "      <th>Item_Visibility</th>\n",
       "      <th>Item_Weight</th>\n",
       "      <th>Outlet_Establishment_Year</th>\n",
       "      <th>Outlet_Identifier</th>\n",
       "      <th>Outlet_Location_Type</th>\n",
       "      <th>Outlet_Size</th>\n",
       "      <th>Outlet_Type</th>\n",
       "    </tr>\n",
       "  </thead>\n",
       "  <tbody>\n",
       "    <tr>\n",
       "      <td>0</td>\n",
       "      <td>Low Fat</td>\n",
       "      <td>FDA15</td>\n",
       "      <td>249.8092</td>\n",
       "      <td>3735.1380</td>\n",
       "      <td>Dairy</td>\n",
       "      <td>0.016047</td>\n",
       "      <td>9.30</td>\n",
       "      <td>1999</td>\n",
       "      <td>OUT049</td>\n",
       "      <td>Tier 1</td>\n",
       "      <td>Medium</td>\n",
       "      <td>Supermarket Type1</td>\n",
       "    </tr>\n",
       "    <tr>\n",
       "      <td>1</td>\n",
       "      <td>Regular</td>\n",
       "      <td>DRC01</td>\n",
       "      <td>48.2692</td>\n",
       "      <td>443.4228</td>\n",
       "      <td>Soft Drinks</td>\n",
       "      <td>0.019278</td>\n",
       "      <td>5.92</td>\n",
       "      <td>2009</td>\n",
       "      <td>OUT018</td>\n",
       "      <td>Tier 3</td>\n",
       "      <td>Medium</td>\n",
       "      <td>Supermarket Type2</td>\n",
       "    </tr>\n",
       "    <tr>\n",
       "      <td>2</td>\n",
       "      <td>Low Fat</td>\n",
       "      <td>FDN15</td>\n",
       "      <td>141.6180</td>\n",
       "      <td>2097.2700</td>\n",
       "      <td>Meat</td>\n",
       "      <td>0.016760</td>\n",
       "      <td>17.50</td>\n",
       "      <td>1999</td>\n",
       "      <td>OUT049</td>\n",
       "      <td>Tier 1</td>\n",
       "      <td>Medium</td>\n",
       "      <td>Supermarket Type1</td>\n",
       "    </tr>\n",
       "    <tr>\n",
       "      <td>3</td>\n",
       "      <td>Regular</td>\n",
       "      <td>FDX07</td>\n",
       "      <td>182.0950</td>\n",
       "      <td>732.3800</td>\n",
       "      <td>Fruits and Vegetables</td>\n",
       "      <td>0.000000</td>\n",
       "      <td>19.20</td>\n",
       "      <td>1998</td>\n",
       "      <td>OUT010</td>\n",
       "      <td>Tier 3</td>\n",
       "      <td>NaN</td>\n",
       "      <td>Grocery Store</td>\n",
       "    </tr>\n",
       "    <tr>\n",
       "      <td>4</td>\n",
       "      <td>Low Fat</td>\n",
       "      <td>NCD19</td>\n",
       "      <td>53.8614</td>\n",
       "      <td>994.7052</td>\n",
       "      <td>Household</td>\n",
       "      <td>0.000000</td>\n",
       "      <td>8.93</td>\n",
       "      <td>1987</td>\n",
       "      <td>OUT013</td>\n",
       "      <td>Tier 3</td>\n",
       "      <td>High</td>\n",
       "      <td>Supermarket Type1</td>\n",
       "    </tr>\n",
       "  </tbody>\n",
       "</table>\n",
       "</div>"
      ],
      "text/plain": [
       "  Item_Fat_Content Item_Identifier  Item_MRP  Item_Outlet_Sales  \\\n",
       "0          Low Fat           FDA15  249.8092          3735.1380   \n",
       "1          Regular           DRC01   48.2692           443.4228   \n",
       "2          Low Fat           FDN15  141.6180          2097.2700   \n",
       "3          Regular           FDX07  182.0950           732.3800   \n",
       "4          Low Fat           NCD19   53.8614           994.7052   \n",
       "\n",
       "               Item_Type  Item_Visibility  Item_Weight  \\\n",
       "0                  Dairy         0.016047         9.30   \n",
       "1            Soft Drinks         0.019278         5.92   \n",
       "2                   Meat         0.016760        17.50   \n",
       "3  Fruits and Vegetables         0.000000        19.20   \n",
       "4              Household         0.000000         8.93   \n",
       "\n",
       "   Outlet_Establishment_Year Outlet_Identifier Outlet_Location_Type  \\\n",
       "0                       1999            OUT049               Tier 1   \n",
       "1                       2009            OUT018               Tier 3   \n",
       "2                       1999            OUT049               Tier 1   \n",
       "3                       1998            OUT010               Tier 3   \n",
       "4                       1987            OUT013               Tier 3   \n",
       "\n",
       "  Outlet_Size        Outlet_Type  \n",
       "0      Medium  Supermarket Type1  \n",
       "1      Medium  Supermarket Type2  \n",
       "2      Medium  Supermarket Type1  \n",
       "3         NaN      Grocery Store  \n",
       "4        High  Supermarket Type1  "
      ]
     },
     "execution_count": 41,
     "metadata": {},
     "output_type": "execute_result"
    }
   ],
   "source": [
    "combined.head()"
   ]
  },
  {
   "cell_type": "code",
   "execution_count": 42,
   "metadata": {},
   "outputs": [
    {
     "data": {
      "text/plain": [
       "13.23835812964935"
      ]
     },
     "execution_count": 42,
     "metadata": {},
     "output_type": "execute_result"
    }
   ],
   "source": [
    "combined[combined.Item_Type == 'Dairy']['Item_Weight'].mean()"
   ]
  },
  {
   "cell_type": "code",
   "execution_count": 43,
   "metadata": {},
   "outputs": [
    {
     "data": {
      "text/plain": [
       "4        8.93\n",
       "522      8.93\n",
       "802      8.93\n",
       "2129     8.93\n",
       "2907     8.93\n",
       "3428     8.93\n",
       "8672      NaN\n",
       "10467    8.93\n",
       "13900    8.93\n",
       "Name: Item_Weight, dtype: float64"
      ]
     },
     "execution_count": 43,
     "metadata": {},
     "output_type": "execute_result"
    }
   ],
   "source": [
    "combined[combined.Item_Identifier == 'NCD19']['Item_Weight']\n",
    "\n",
    "# Item_Id more valid for filling Item_Weight"
   ]
  },
  {
   "cell_type": "code",
   "execution_count": 44,
   "metadata": {},
   "outputs": [],
   "source": [
    "# lambda\n",
    "# Way1 :\n",
    "# miss_values = lambda x:x.fillna(x.mean())\n",
    "# combined['Item_Weight'] = combined.groupby('Item_Identifier')['Item_Weight'].apply(miss_values)\n",
    "\n",
    "# Way2 : \n",
    "combined['Item_Weight'] = combined.groupby('Item_Identifier')['Item_Weight'].transform(lambda x:x.fillna(x.mean()))\n"
   ]
  },
  {
   "cell_type": "code",
   "execution_count": 45,
   "metadata": {},
   "outputs": [
    {
     "data": {
      "text/plain": [
       "Item_Fat_Content                0\n",
       "Item_Identifier                 0\n",
       "Item_MRP                        0\n",
       "Item_Outlet_Sales            5681\n",
       "Item_Type                       0\n",
       "Item_Visibility                 0\n",
       "Item_Weight                     0\n",
       "Outlet_Establishment_Year       0\n",
       "Outlet_Identifier               0\n",
       "Outlet_Location_Type            0\n",
       "Outlet_Size                  4016\n",
       "Outlet_Type                     0\n",
       "dtype: int64"
      ]
     },
     "execution_count": 45,
     "metadata": {},
     "output_type": "execute_result"
    }
   ],
   "source": [
    "combined.isnull().sum()"
   ]
  },
  {
   "cell_type": "code",
   "execution_count": 46,
   "metadata": {},
   "outputs": [
    {
     "data": {
      "text/plain": [
       "Medium    4655\n",
       "Small     3980\n",
       "High      1553\n",
       "Name: Outlet_Size, dtype: int64"
      ]
     },
     "execution_count": 46,
     "metadata": {},
     "output_type": "execute_result"
    }
   ],
   "source": [
    "# Handling Outlet_Size Missing Values\n",
    "combined.Outlet_Size.value_counts()"
   ]
  },
  {
   "cell_type": "code",
   "execution_count": 47,
   "metadata": {},
   "outputs": [
    {
     "data": {
      "text/plain": [
       "Outlet_Location_Type  Outlet_Type      \n",
       "Tier 1                Grocery Store                [Small]\n",
       "                      Supermarket Type1    [Medium, Small]\n",
       "Tier 2                Supermarket Type1       [nan, Small]\n",
       "Tier 3                Grocery Store                  [nan]\n",
       "                      Supermarket Type1             [High]\n",
       "                      Supermarket Type2           [Medium]\n",
       "                      Supermarket Type3           [Medium]\n",
       "Name: Outlet_Size, dtype: object"
      ]
     },
     "execution_count": 47,
     "metadata": {},
     "output_type": "execute_result"
    }
   ],
   "source": [
    "combined.groupby(['Outlet_Location_Type','Outlet_Type'])['Outlet_Size'].unique()"
   ]
  },
  {
   "cell_type": "code",
   "execution_count": 48,
   "metadata": {},
   "outputs": [],
   "source": [
    "combined.loc[combined.Outlet_Type==\"Grocery Store\", \"Outlet_Size\"] = \"Small\"\n",
    "combined.loc[combined.Outlet_Type==\"Supermarket Type1\", \"Outlet_Size\"] = \"Small\"\n"
   ]
  },
  {
   "cell_type": "code",
   "execution_count": 49,
   "metadata": {
    "scrolled": true
   },
   "outputs": [
    {
     "data": {
      "text/plain": [
       "Outlet_Location_Type  Outlet_Type      \n",
       "Tier 1                Grocery Store         [Small]\n",
       "                      Supermarket Type1     [Small]\n",
       "Tier 2                Supermarket Type1     [Small]\n",
       "Tier 3                Grocery Store         [Small]\n",
       "                      Supermarket Type1     [Small]\n",
       "                      Supermarket Type2    [Medium]\n",
       "                      Supermarket Type3    [Medium]\n",
       "Name: Outlet_Size, dtype: object"
      ]
     },
     "execution_count": 49,
     "metadata": {},
     "output_type": "execute_result"
    }
   ],
   "source": [
    "combined.groupby(['Outlet_Location_Type','Outlet_Type'])['Outlet_Size'].unique()"
   ]
  },
  {
   "cell_type": "markdown",
   "metadata": {},
   "source": [
    "------------------------"
   ]
  },
  {
   "cell_type": "markdown",
   "metadata": {},
   "source": [
    "### Feature Engineering"
   ]
  },
  {
   "cell_type": "code",
   "execution_count": 50,
   "metadata": {},
   "outputs": [
    {
     "data": {
      "text/html": [
       "<div>\n",
       "<style scoped>\n",
       "    .dataframe tbody tr th:only-of-type {\n",
       "        vertical-align: middle;\n",
       "    }\n",
       "\n",
       "    .dataframe tbody tr th {\n",
       "        vertical-align: top;\n",
       "    }\n",
       "\n",
       "    .dataframe thead th {\n",
       "        text-align: right;\n",
       "    }\n",
       "</style>\n",
       "<table border=\"1\" class=\"dataframe\">\n",
       "  <thead>\n",
       "    <tr style=\"text-align: right;\">\n",
       "      <th></th>\n",
       "      <th>Item_Fat_Content</th>\n",
       "      <th>Item_Identifier</th>\n",
       "      <th>Item_MRP</th>\n",
       "      <th>Item_Outlet_Sales</th>\n",
       "      <th>Item_Type</th>\n",
       "      <th>Item_Visibility</th>\n",
       "      <th>Item_Weight</th>\n",
       "      <th>Outlet_Establishment_Year</th>\n",
       "      <th>Outlet_Identifier</th>\n",
       "      <th>Outlet_Location_Type</th>\n",
       "      <th>Outlet_Size</th>\n",
       "      <th>Outlet_Type</th>\n",
       "    </tr>\n",
       "  </thead>\n",
       "  <tbody>\n",
       "    <tr>\n",
       "      <td>0</td>\n",
       "      <td>Low Fat</td>\n",
       "      <td>FDA15</td>\n",
       "      <td>249.8092</td>\n",
       "      <td>3735.1380</td>\n",
       "      <td>Dairy</td>\n",
       "      <td>0.016047</td>\n",
       "      <td>9.30</td>\n",
       "      <td>1999</td>\n",
       "      <td>OUT049</td>\n",
       "      <td>Tier 1</td>\n",
       "      <td>Small</td>\n",
       "      <td>Supermarket Type1</td>\n",
       "    </tr>\n",
       "    <tr>\n",
       "      <td>1</td>\n",
       "      <td>Regular</td>\n",
       "      <td>DRC01</td>\n",
       "      <td>48.2692</td>\n",
       "      <td>443.4228</td>\n",
       "      <td>Soft Drinks</td>\n",
       "      <td>0.019278</td>\n",
       "      <td>5.92</td>\n",
       "      <td>2009</td>\n",
       "      <td>OUT018</td>\n",
       "      <td>Tier 3</td>\n",
       "      <td>Medium</td>\n",
       "      <td>Supermarket Type2</td>\n",
       "    </tr>\n",
       "    <tr>\n",
       "      <td>2</td>\n",
       "      <td>Low Fat</td>\n",
       "      <td>FDN15</td>\n",
       "      <td>141.6180</td>\n",
       "      <td>2097.2700</td>\n",
       "      <td>Meat</td>\n",
       "      <td>0.016760</td>\n",
       "      <td>17.50</td>\n",
       "      <td>1999</td>\n",
       "      <td>OUT049</td>\n",
       "      <td>Tier 1</td>\n",
       "      <td>Small</td>\n",
       "      <td>Supermarket Type1</td>\n",
       "    </tr>\n",
       "    <tr>\n",
       "      <td>3</td>\n",
       "      <td>Regular</td>\n",
       "      <td>FDX07</td>\n",
       "      <td>182.0950</td>\n",
       "      <td>732.3800</td>\n",
       "      <td>Fruits and Vegetables</td>\n",
       "      <td>0.000000</td>\n",
       "      <td>19.20</td>\n",
       "      <td>1998</td>\n",
       "      <td>OUT010</td>\n",
       "      <td>Tier 3</td>\n",
       "      <td>Small</td>\n",
       "      <td>Grocery Store</td>\n",
       "    </tr>\n",
       "    <tr>\n",
       "      <td>4</td>\n",
       "      <td>Low Fat</td>\n",
       "      <td>NCD19</td>\n",
       "      <td>53.8614</td>\n",
       "      <td>994.7052</td>\n",
       "      <td>Household</td>\n",
       "      <td>0.000000</td>\n",
       "      <td>8.93</td>\n",
       "      <td>1987</td>\n",
       "      <td>OUT013</td>\n",
       "      <td>Tier 3</td>\n",
       "      <td>Small</td>\n",
       "      <td>Supermarket Type1</td>\n",
       "    </tr>\n",
       "  </tbody>\n",
       "</table>\n",
       "</div>"
      ],
      "text/plain": [
       "  Item_Fat_Content Item_Identifier  Item_MRP  Item_Outlet_Sales  \\\n",
       "0          Low Fat           FDA15  249.8092          3735.1380   \n",
       "1          Regular           DRC01   48.2692           443.4228   \n",
       "2          Low Fat           FDN15  141.6180          2097.2700   \n",
       "3          Regular           FDX07  182.0950           732.3800   \n",
       "4          Low Fat           NCD19   53.8614           994.7052   \n",
       "\n",
       "               Item_Type  Item_Visibility  Item_Weight  \\\n",
       "0                  Dairy         0.016047         9.30   \n",
       "1            Soft Drinks         0.019278         5.92   \n",
       "2                   Meat         0.016760        17.50   \n",
       "3  Fruits and Vegetables         0.000000        19.20   \n",
       "4              Household         0.000000         8.93   \n",
       "\n",
       "   Outlet_Establishment_Year Outlet_Identifier Outlet_Location_Type  \\\n",
       "0                       1999            OUT049               Tier 1   \n",
       "1                       2009            OUT018               Tier 3   \n",
       "2                       1999            OUT049               Tier 1   \n",
       "3                       1998            OUT010               Tier 3   \n",
       "4                       1987            OUT013               Tier 3   \n",
       "\n",
       "  Outlet_Size        Outlet_Type  \n",
       "0       Small  Supermarket Type1  \n",
       "1      Medium  Supermarket Type2  \n",
       "2       Small  Supermarket Type1  \n",
       "3       Small      Grocery Store  \n",
       "4       Small  Supermarket Type1  "
      ]
     },
     "execution_count": 50,
     "metadata": {},
     "output_type": "execute_result"
    }
   ],
   "source": [
    "combined.head()"
   ]
  },
  {
   "cell_type": "code",
   "execution_count": 51,
   "metadata": {},
   "outputs": [
    {
     "data": {
      "text/plain": [
       "count    14204.000000\n",
       "mean         0.065953\n",
       "std          0.051459\n",
       "min          0.000000\n",
       "25%          0.027036\n",
       "50%          0.054021\n",
       "75%          0.094037\n",
       "max          0.328391\n",
       "Name: Item_Visibility, dtype: float64"
      ]
     },
     "execution_count": 51,
     "metadata": {},
     "output_type": "execute_result"
    }
   ],
   "source": [
    "combined.Item_Visibility.describe()"
   ]
  },
  {
   "cell_type": "code",
   "execution_count": 52,
   "metadata": {},
   "outputs": [],
   "source": [
    "# Deal with Zero Visibility\n",
    "combined['Item_Visibility'] = combined.groupby('Item_Identifier')['Item_Visibility'].transform(lambda x:x.replace(0,x.mean()))"
   ]
  },
  {
   "cell_type": "code",
   "execution_count": 53,
   "metadata": {},
   "outputs": [
    {
     "data": {
      "text/plain": [
       "count    14204.000000\n",
       "mean         0.069710\n",
       "std          0.049728\n",
       "min          0.003575\n",
       "25%          0.031145\n",
       "50%          0.057194\n",
       "75%          0.096930\n",
       "max          0.328391\n",
       "Name: Item_Visibility, dtype: float64"
      ]
     },
     "execution_count": 53,
     "metadata": {},
     "output_type": "execute_result"
    }
   ],
   "source": [
    "combined.Item_Visibility.describe()"
   ]
  },
  {
   "cell_type": "code",
   "execution_count": 54,
   "metadata": {},
   "outputs": [
    {
     "data": {
      "image/png": "[encoded data removed]",
      "text/plain": [
       "<Figure size 432x288 with 1 Axes>"
      ]
     },
     "metadata": {
      "needs_background": "light"
     },
     "output_type": "display_data"
    }
   ],
   "source": [
    "# Item_Visibility vs Sales\n",
    "plt.scatter(combined.Item_Visibility,combined.Item_Outlet_Sales,c='r')\n",
    "plt.title('Item_Visibility vs Sales')\n",
    "plt.show()"
   ]
  },
  {
   "cell_type": "code",
   "execution_count": 55,
   "metadata": {},
   "outputs": [
    {
     "data": {
      "text/html": [
       "<div>\n",
       "<style scoped>\n",
       "    .dataframe tbody tr th:only-of-type {\n",
       "        vertical-align: middle;\n",
       "    }\n",
       "\n",
       "    .dataframe tbody tr th {\n",
       "        vertical-align: top;\n",
       "    }\n",
       "\n",
       "    .dataframe thead th {\n",
       "        text-align: right;\n",
       "    }\n",
       "</style>\n",
       "<table border=\"1\" class=\"dataframe\">\n",
       "  <thead>\n",
       "    <tr style=\"text-align: right;\">\n",
       "      <th></th>\n",
       "      <th>Item_Fat_Content</th>\n",
       "      <th>Item_Identifier</th>\n",
       "      <th>Item_MRP</th>\n",
       "      <th>Item_Outlet_Sales</th>\n",
       "      <th>Item_Type</th>\n",
       "      <th>Item_Visibility</th>\n",
       "      <th>Item_Weight</th>\n",
       "      <th>Outlet_Establishment_Year</th>\n",
       "      <th>Outlet_Identifier</th>\n",
       "      <th>Outlet_Location_Type</th>\n",
       "      <th>Outlet_Size</th>\n",
       "      <th>Outlet_Type</th>\n",
       "    </tr>\n",
       "  </thead>\n",
       "  <tbody>\n",
       "    <tr>\n",
       "      <td>0</td>\n",
       "      <td>Low Fat</td>\n",
       "      <td>FDA15</td>\n",
       "      <td>249.8092</td>\n",
       "      <td>3735.1380</td>\n",
       "      <td>Dairy</td>\n",
       "      <td>0.016047</td>\n",
       "      <td>9.30</td>\n",
       "      <td>1999</td>\n",
       "      <td>OUT049</td>\n",
       "      <td>Tier 1</td>\n",
       "      <td>Small</td>\n",
       "      <td>Supermarket Type1</td>\n",
       "    </tr>\n",
       "    <tr>\n",
       "      <td>1</td>\n",
       "      <td>Regular</td>\n",
       "      <td>DRC01</td>\n",
       "      <td>48.2692</td>\n",
       "      <td>443.4228</td>\n",
       "      <td>Soft Drinks</td>\n",
       "      <td>0.019278</td>\n",
       "      <td>5.92</td>\n",
       "      <td>2009</td>\n",
       "      <td>OUT018</td>\n",
       "      <td>Tier 3</td>\n",
       "      <td>Medium</td>\n",
       "      <td>Supermarket Type2</td>\n",
       "    </tr>\n",
       "    <tr>\n",
       "      <td>2</td>\n",
       "      <td>Low Fat</td>\n",
       "      <td>FDN15</td>\n",
       "      <td>141.6180</td>\n",
       "      <td>2097.2700</td>\n",
       "      <td>Meat</td>\n",
       "      <td>0.016760</td>\n",
       "      <td>17.50</td>\n",
       "      <td>1999</td>\n",
       "      <td>OUT049</td>\n",
       "      <td>Tier 1</td>\n",
       "      <td>Small</td>\n",
       "      <td>Supermarket Type1</td>\n",
       "    </tr>\n",
       "    <tr>\n",
       "      <td>3</td>\n",
       "      <td>Regular</td>\n",
       "      <td>FDX07</td>\n",
       "      <td>182.0950</td>\n",
       "      <td>732.3800</td>\n",
       "      <td>Fruits and Vegetables</td>\n",
       "      <td>0.017834</td>\n",
       "      <td>19.20</td>\n",
       "      <td>1998</td>\n",
       "      <td>OUT010</td>\n",
       "      <td>Tier 3</td>\n",
       "      <td>Small</td>\n",
       "      <td>Grocery Store</td>\n",
       "    </tr>\n",
       "    <tr>\n",
       "      <td>4</td>\n",
       "      <td>Low Fat</td>\n",
       "      <td>NCD19</td>\n",
       "      <td>53.8614</td>\n",
       "      <td>994.7052</td>\n",
       "      <td>Household</td>\n",
       "      <td>0.009780</td>\n",
       "      <td>8.93</td>\n",
       "      <td>1987</td>\n",
       "      <td>OUT013</td>\n",
       "      <td>Tier 3</td>\n",
       "      <td>Small</td>\n",
       "      <td>Supermarket Type1</td>\n",
       "    </tr>\n",
       "  </tbody>\n",
       "</table>\n",
       "</div>"
      ],
      "text/plain": [
       "  Item_Fat_Content Item_Identifier  Item_MRP  Item_Outlet_Sales  \\\n",
       "0          Low Fat           FDA15  249.8092          3735.1380   \n",
       "1          Regular           DRC01   48.2692           443.4228   \n",
       "2          Low Fat           FDN15  141.6180          2097.2700   \n",
       "3          Regular           FDX07  182.0950           732.3800   \n",
       "4          Low Fat           NCD19   53.8614           994.7052   \n",
       "\n",
       "               Item_Type  Item_Visibility  Item_Weight  \\\n",
       "0                  Dairy         0.016047         9.30   \n",
       "1            Soft Drinks         0.019278         5.92   \n",
       "2                   Meat         0.016760        17.50   \n",
       "3  Fruits and Vegetables         0.017834        19.20   \n",
       "4              Household         0.009780         8.93   \n",
       "\n",
       "   Outlet_Establishment_Year Outlet_Identifier Outlet_Location_Type  \\\n",
       "0                       1999            OUT049               Tier 1   \n",
       "1                       2009            OUT018               Tier 3   \n",
       "2                       1999            OUT049               Tier 1   \n",
       "3                       1998            OUT010               Tier 3   \n",
       "4                       1987            OUT013               Tier 3   \n",
       "\n",
       "  Outlet_Size        Outlet_Type  \n",
       "0       Small  Supermarket Type1  \n",
       "1      Medium  Supermarket Type2  \n",
       "2       Small  Supermarket Type1  \n",
       "3       Small      Grocery Store  \n",
       "4       Small  Supermarket Type1  "
      ]
     },
     "execution_count": 55,
     "metadata": {},
     "output_type": "execute_result"
    }
   ],
   "source": [
    "combined.head()"
   ]
  },
  {
   "cell_type": "code",
   "execution_count": 56,
   "metadata": {},
   "outputs": [
    {
     "data": {
      "text/plain": [
       "array(['Dairy', 'Soft Drinks', 'Meat', 'Fruits and Vegetables',\n",
       "       'Household', 'Baking Goods', 'Snack Foods', 'Frozen Foods',\n",
       "       'Breakfast', 'Health and Hygiene', 'Hard Drinks', 'Canned',\n",
       "       'Breads', 'Starchy Foods', 'Others', 'Seafood'], dtype=object)"
      ]
     },
     "execution_count": 56,
     "metadata": {},
     "output_type": "execute_result"
    }
   ],
   "source": [
    "# Item_Type to Perishable/Non-Perishable Type\n",
    "combined.Item_Type.unique()"
   ]
  },
  {
   "cell_type": "code",
   "execution_count": 57,
   "metadata": {},
   "outputs": [],
   "source": [
    "perishables = ['Dairy', 'Meat', 'Fruits and Vegetables', 'Breakfast', \n",
    "               'Canned', 'Breads', 'Starchy Foods', 'Seafood']\n",
    "\n",
    "def perish(x):\n",
    "    if x in perishables:\n",
    "        return 'Perishables'\n",
    "    else:\n",
    "        return 'Non Perishables'\n",
    "\n",
    "# Apply on Item_Type\n",
    "combined['ItemType_Category'] = combined.Item_Type.apply(perish)"
   ]
  },
  {
   "cell_type": "code",
   "execution_count": 58,
   "metadata": {},
   "outputs": [],
   "source": [
    "# Outlet_Vintage (Years)\n",
    "combined['Vintage'] = 2013 - combined.Outlet_Establishment_Year"
   ]
  },
  {
   "cell_type": "code",
   "execution_count": 59,
   "metadata": {},
   "outputs": [],
   "source": [
    "# Outlet_Identifier\n",
    "def outlets(x):\n",
    "    if x == 'OUT027':\n",
    "        return 'OUT027'\n",
    "    else:\n",
    "        return 'Others'\n",
    "    \n",
    "combined['Outlets'] = combined['Outlet_Identifier'].apply(outlets)"
   ]
  },
  {
   "cell_type": "code",
   "execution_count": 60,
   "metadata": {},
   "outputs": [
    {
     "data": {
      "text/plain": [
       "'FD'"
      ]
     },
     "execution_count": 60,
     "metadata": {},
     "output_type": "execute_result"
    }
   ],
   "source": [
    "# Item_Identifier\n",
    "combined.iloc[0][1][:2]"
   ]
  },
  {
   "cell_type": "code",
   "execution_count": 61,
   "metadata": {},
   "outputs": [],
   "source": [
    "mylist = []\n",
    "\n",
    "# NC --> Non-Consumable\n",
    "# FD --> Food\n",
    "# DR --> Drinks\n",
    "\n",
    "for i in combined.Item_Identifier:\n",
    "    mylist.append(i[:2])\n",
    "    \n",
    "combined['ItemID_Cat'] = pd.Series(mylist)"
   ]
  },
  {
   "cell_type": "code",
   "execution_count": 62,
   "metadata": {},
   "outputs": [
    {
     "data": {
      "text/html": [
       "<div>\n",
       "<style scoped>\n",
       "    .dataframe tbody tr th:only-of-type {\n",
       "        vertical-align: middle;\n",
       "    }\n",
       "\n",
       "    .dataframe tbody tr th {\n",
       "        vertical-align: top;\n",
       "    }\n",
       "\n",
       "    .dataframe thead th {\n",
       "        text-align: right;\n",
       "    }\n",
       "</style>\n",
       "<table border=\"1\" class=\"dataframe\">\n",
       "  <thead>\n",
       "    <tr style=\"text-align: right;\">\n",
       "      <th></th>\n",
       "      <th>Item_Fat_Content</th>\n",
       "      <th>Item_Identifier</th>\n",
       "      <th>Item_MRP</th>\n",
       "      <th>Item_Outlet_Sales</th>\n",
       "      <th>Item_Type</th>\n",
       "      <th>Item_Visibility</th>\n",
       "      <th>Item_Weight</th>\n",
       "      <th>Outlet_Establishment_Year</th>\n",
       "      <th>Outlet_Identifier</th>\n",
       "      <th>Outlet_Location_Type</th>\n",
       "      <th>Outlet_Size</th>\n",
       "      <th>Outlet_Type</th>\n",
       "      <th>ItemType_Category</th>\n",
       "      <th>Vintage</th>\n",
       "      <th>Outlets</th>\n",
       "      <th>ItemID_Cat</th>\n",
       "    </tr>\n",
       "  </thead>\n",
       "  <tbody>\n",
       "    <tr>\n",
       "      <td>0</td>\n",
       "      <td>Low Fat</td>\n",
       "      <td>FDA15</td>\n",
       "      <td>249.8092</td>\n",
       "      <td>3735.1380</td>\n",
       "      <td>Dairy</td>\n",
       "      <td>0.016047</td>\n",
       "      <td>9.30</td>\n",
       "      <td>1999</td>\n",
       "      <td>OUT049</td>\n",
       "      <td>Tier 1</td>\n",
       "      <td>Small</td>\n",
       "      <td>Supermarket Type1</td>\n",
       "      <td>Perishables</td>\n",
       "      <td>14</td>\n",
       "      <td>Others</td>\n",
       "      <td>FD</td>\n",
       "    </tr>\n",
       "    <tr>\n",
       "      <td>1</td>\n",
       "      <td>Regular</td>\n",
       "      <td>DRC01</td>\n",
       "      <td>48.2692</td>\n",
       "      <td>443.4228</td>\n",
       "      <td>Soft Drinks</td>\n",
       "      <td>0.019278</td>\n",
       "      <td>5.92</td>\n",
       "      <td>2009</td>\n",
       "      <td>OUT018</td>\n",
       "      <td>Tier 3</td>\n",
       "      <td>Medium</td>\n",
       "      <td>Supermarket Type2</td>\n",
       "      <td>Non Perishables</td>\n",
       "      <td>4</td>\n",
       "      <td>Others</td>\n",
       "      <td>DR</td>\n",
       "    </tr>\n",
       "    <tr>\n",
       "      <td>2</td>\n",
       "      <td>Low Fat</td>\n",
       "      <td>FDN15</td>\n",
       "      <td>141.6180</td>\n",
       "      <td>2097.2700</td>\n",
       "      <td>Meat</td>\n",
       "      <td>0.016760</td>\n",
       "      <td>17.50</td>\n",
       "      <td>1999</td>\n",
       "      <td>OUT049</td>\n",
       "      <td>Tier 1</td>\n",
       "      <td>Small</td>\n",
       "      <td>Supermarket Type1</td>\n",
       "      <td>Perishables</td>\n",
       "      <td>14</td>\n",
       "      <td>Others</td>\n",
       "      <td>FD</td>\n",
       "    </tr>\n",
       "    <tr>\n",
       "      <td>3</td>\n",
       "      <td>Regular</td>\n",
       "      <td>FDX07</td>\n",
       "      <td>182.0950</td>\n",
       "      <td>732.3800</td>\n",
       "      <td>Fruits and Vegetables</td>\n",
       "      <td>0.017834</td>\n",
       "      <td>19.20</td>\n",
       "      <td>1998</td>\n",
       "      <td>OUT010</td>\n",
       "      <td>Tier 3</td>\n",
       "      <td>Small</td>\n",
       "      <td>Grocery Store</td>\n",
       "      <td>Perishables</td>\n",
       "      <td>15</td>\n",
       "      <td>Others</td>\n",
       "      <td>FD</td>\n",
       "    </tr>\n",
       "    <tr>\n",
       "      <td>4</td>\n",
       "      <td>Low Fat</td>\n",
       "      <td>NCD19</td>\n",
       "      <td>53.8614</td>\n",
       "      <td>994.7052</td>\n",
       "      <td>Household</td>\n",
       "      <td>0.009780</td>\n",
       "      <td>8.93</td>\n",
       "      <td>1987</td>\n",
       "      <td>OUT013</td>\n",
       "      <td>Tier 3</td>\n",
       "      <td>Small</td>\n",
       "      <td>Supermarket Type1</td>\n",
       "      <td>Non Perishables</td>\n",
       "      <td>26</td>\n",
       "      <td>Others</td>\n",
       "      <td>NC</td>\n",
       "    </tr>\n",
       "  </tbody>\n",
       "</table>\n",
       "</div>"
      ],
      "text/plain": [
       "  Item_Fat_Content Item_Identifier  Item_MRP  Item_Outlet_Sales  \\\n",
       "0          Low Fat           FDA15  249.8092          3735.1380   \n",
       "1          Regular           DRC01   48.2692           443.4228   \n",
       "2          Low Fat           FDN15  141.6180          2097.2700   \n",
       "3          Regular           FDX07  182.0950           732.3800   \n",
       "4          Low Fat           NCD19   53.8614           994.7052   \n",
       "\n",
       "               Item_Type  Item_Visibility  Item_Weight  \\\n",
       "0                  Dairy         0.016047         9.30   \n",
       "1            Soft Drinks         0.019278         5.92   \n",
       "2                   Meat         0.016760        17.50   \n",
       "3  Fruits and Vegetables         0.017834        19.20   \n",
       "4              Household         0.009780         8.93   \n",
       "\n",
       "   Outlet_Establishment_Year Outlet_Identifier Outlet_Location_Type  \\\n",
       "0                       1999            OUT049               Tier 1   \n",
       "1                       2009            OUT018               Tier 3   \n",
       "2                       1999            OUT049               Tier 1   \n",
       "3                       1998            OUT010               Tier 3   \n",
       "4                       1987            OUT013               Tier 3   \n",
       "\n",
       "  Outlet_Size        Outlet_Type ItemType_Category  Vintage Outlets ItemID_Cat  \n",
       "0       Small  Supermarket Type1       Perishables       14  Others         FD  \n",
       "1      Medium  Supermarket Type2   Non Perishables        4  Others         DR  \n",
       "2       Small  Supermarket Type1       Perishables       14  Others         FD  \n",
       "3       Small      Grocery Store       Perishables       15  Others         FD  \n",
       "4       Small  Supermarket Type1   Non Perishables       26  Others         NC  "
      ]
     },
     "execution_count": 62,
     "metadata": {},
     "output_type": "execute_result"
    }
   ],
   "source": [
    "combined.head()"
   ]
  },
  {
   "cell_type": "code",
   "execution_count": 63,
   "metadata": {},
   "outputs": [],
   "source": [
    "# Dropping the Variables\n",
    "\n",
    "df = combined.drop(['Item_Type','Outlet_Establishment_Year','Outlet_Identifier','Item_Identifier'],axis=1)"
   ]
  },
  {
   "cell_type": "code",
   "execution_count": 64,
   "metadata": {},
   "outputs": [
    {
     "data": {
      "text/html": [
       "<div>\n",
       "<style scoped>\n",
       "    .dataframe tbody tr th:only-of-type {\n",
       "        vertical-align: middle;\n",
       "    }\n",
       "\n",
       "    .dataframe tbody tr th {\n",
       "        vertical-align: top;\n",
       "    }\n",
       "\n",
       "    .dataframe thead th {\n",
       "        text-align: right;\n",
       "    }\n",
       "</style>\n",
       "<table border=\"1\" class=\"dataframe\">\n",
       "  <thead>\n",
       "    <tr style=\"text-align: right;\">\n",
       "      <th></th>\n",
       "      <th>Item_Fat_Content</th>\n",
       "      <th>Item_MRP</th>\n",
       "      <th>Item_Outlet_Sales</th>\n",
       "      <th>Item_Visibility</th>\n",
       "      <th>Item_Weight</th>\n",
       "      <th>Outlet_Location_Type</th>\n",
       "      <th>Outlet_Size</th>\n",
       "      <th>Outlet_Type</th>\n",
       "      <th>ItemType_Category</th>\n",
       "      <th>Vintage</th>\n",
       "      <th>Outlets</th>\n",
       "      <th>ItemID_Cat</th>\n",
       "    </tr>\n",
       "  </thead>\n",
       "  <tbody>\n",
       "    <tr>\n",
       "      <td>0</td>\n",
       "      <td>Low Fat</td>\n",
       "      <td>249.8092</td>\n",
       "      <td>3735.1380</td>\n",
       "      <td>0.016047</td>\n",
       "      <td>9.30</td>\n",
       "      <td>Tier 1</td>\n",
       "      <td>Small</td>\n",
       "      <td>Supermarket Type1</td>\n",
       "      <td>Perishables</td>\n",
       "      <td>14</td>\n",
       "      <td>Others</td>\n",
       "      <td>FD</td>\n",
       "    </tr>\n",
       "    <tr>\n",
       "      <td>1</td>\n",
       "      <td>Regular</td>\n",
       "      <td>48.2692</td>\n",
       "      <td>443.4228</td>\n",
       "      <td>0.019278</td>\n",
       "      <td>5.92</td>\n",
       "      <td>Tier 3</td>\n",
       "      <td>Medium</td>\n",
       "      <td>Supermarket Type2</td>\n",
       "      <td>Non Perishables</td>\n",
       "      <td>4</td>\n",
       "      <td>Others</td>\n",
       "      <td>DR</td>\n",
       "    </tr>\n",
       "    <tr>\n",
       "      <td>2</td>\n",
       "      <td>Low Fat</td>\n",
       "      <td>141.6180</td>\n",
       "      <td>2097.2700</td>\n",
       "      <td>0.016760</td>\n",
       "      <td>17.50</td>\n",
       "      <td>Tier 1</td>\n",
       "      <td>Small</td>\n",
       "      <td>Supermarket Type1</td>\n",
       "      <td>Perishables</td>\n",
       "      <td>14</td>\n",
       "      <td>Others</td>\n",
       "      <td>FD</td>\n",
       "    </tr>\n",
       "    <tr>\n",
       "      <td>3</td>\n",
       "      <td>Regular</td>\n",
       "      <td>182.0950</td>\n",
       "      <td>732.3800</td>\n",
       "      <td>0.017834</td>\n",
       "      <td>19.20</td>\n",
       "      <td>Tier 3</td>\n",
       "      <td>Small</td>\n",
       "      <td>Grocery Store</td>\n",
       "      <td>Perishables</td>\n",
       "      <td>15</td>\n",
       "      <td>Others</td>\n",
       "      <td>FD</td>\n",
       "    </tr>\n",
       "    <tr>\n",
       "      <td>4</td>\n",
       "      <td>Low Fat</td>\n",
       "      <td>53.8614</td>\n",
       "      <td>994.7052</td>\n",
       "      <td>0.009780</td>\n",
       "      <td>8.93</td>\n",
       "      <td>Tier 3</td>\n",
       "      <td>Small</td>\n",
       "      <td>Supermarket Type1</td>\n",
       "      <td>Non Perishables</td>\n",
       "      <td>26</td>\n",
       "      <td>Others</td>\n",
       "      <td>NC</td>\n",
       "    </tr>\n",
       "  </tbody>\n",
       "</table>\n",
       "</div>"
      ],
      "text/plain": [
       "  Item_Fat_Content  Item_MRP  Item_Outlet_Sales  Item_Visibility  Item_Weight  \\\n",
       "0          Low Fat  249.8092          3735.1380         0.016047         9.30   \n",
       "1          Regular   48.2692           443.4228         0.019278         5.92   \n",
       "2          Low Fat  141.6180          2097.2700         0.016760        17.50   \n",
       "3          Regular  182.0950           732.3800         0.017834        19.20   \n",
       "4          Low Fat   53.8614           994.7052         0.009780         8.93   \n",
       "\n",
       "  Outlet_Location_Type Outlet_Size        Outlet_Type ItemType_Category  \\\n",
       "0               Tier 1       Small  Supermarket Type1       Perishables   \n",
       "1               Tier 3      Medium  Supermarket Type2   Non Perishables   \n",
       "2               Tier 1       Small  Supermarket Type1       Perishables   \n",
       "3               Tier 3       Small      Grocery Store       Perishables   \n",
       "4               Tier 3       Small  Supermarket Type1   Non Perishables   \n",
       "\n",
       "   Vintage Outlets ItemID_Cat  \n",
       "0       14  Others         FD  \n",
       "1        4  Others         DR  \n",
       "2       14  Others         FD  \n",
       "3       15  Others         FD  \n",
       "4       26  Others         NC  "
      ]
     },
     "execution_count": 64,
     "metadata": {},
     "output_type": "execute_result"
    }
   ],
   "source": [
    "df.head()"
   ]
  },
  {
   "cell_type": "code",
   "execution_count": 65,
   "metadata": {},
   "outputs": [],
   "source": [
    "# Changing Item Fat Content as per the ItemID\n",
    "df.loc[df.ItemID_Cat==\"NC\", \"Item_Fat_Content\"]=\"Non Edible\""
   ]
  },
  {
   "cell_type": "markdown",
   "metadata": {},
   "source": [
    "-----------------"
   ]
  },
  {
   "cell_type": "markdown",
   "metadata": {},
   "source": [
    "### Splitting"
   ]
  },
  {
   "cell_type": "code",
   "execution_count": 66,
   "metadata": {},
   "outputs": [
    {
     "data": {
      "text/plain": [
       "((8523, 12), (5681, 11))"
      ]
     },
     "execution_count": 66,
     "metadata": {},
     "output_type": "execute_result"
    }
   ],
   "source": [
    "# Split data into train and Test\n",
    "train.shape, test.shape"
   ]
  },
  {
   "cell_type": "code",
   "execution_count": 67,
   "metadata": {},
   "outputs": [],
   "source": [
    "newtrain = df[:8523]\n",
    "newtest = df[8523:].reset_index(drop=True)"
   ]
  },
  {
   "cell_type": "code",
   "execution_count": 68,
   "metadata": {},
   "outputs": [
    {
     "data": {
      "text/html": [
       "<div>\n",
       "<style scoped>\n",
       "    .dataframe tbody tr th:only-of-type {\n",
       "        vertical-align: middle;\n",
       "    }\n",
       "\n",
       "    .dataframe tbody tr th {\n",
       "        vertical-align: top;\n",
       "    }\n",
       "\n",
       "    .dataframe thead th {\n",
       "        text-align: right;\n",
       "    }\n",
       "</style>\n",
       "<table border=\"1\" class=\"dataframe\">\n",
       "  <thead>\n",
       "    <tr style=\"text-align: right;\">\n",
       "      <th></th>\n",
       "      <th>Item_Fat_Content</th>\n",
       "      <th>Item_MRP</th>\n",
       "      <th>Item_Outlet_Sales</th>\n",
       "      <th>Item_Visibility</th>\n",
       "      <th>Item_Weight</th>\n",
       "      <th>Outlet_Location_Type</th>\n",
       "      <th>Outlet_Size</th>\n",
       "      <th>Outlet_Type</th>\n",
       "      <th>ItemType_Category</th>\n",
       "      <th>Vintage</th>\n",
       "      <th>Outlets</th>\n",
       "      <th>ItemID_Cat</th>\n",
       "    </tr>\n",
       "  </thead>\n",
       "  <tbody>\n",
       "    <tr>\n",
       "      <td>0</td>\n",
       "      <td>Low Fat</td>\n",
       "      <td>249.8092</td>\n",
       "      <td>3735.1380</td>\n",
       "      <td>0.016047</td>\n",
       "      <td>9.30</td>\n",
       "      <td>Tier 1</td>\n",
       "      <td>Small</td>\n",
       "      <td>Supermarket Type1</td>\n",
       "      <td>Perishables</td>\n",
       "      <td>14</td>\n",
       "      <td>Others</td>\n",
       "      <td>FD</td>\n",
       "    </tr>\n",
       "    <tr>\n",
       "      <td>1</td>\n",
       "      <td>Regular</td>\n",
       "      <td>48.2692</td>\n",
       "      <td>443.4228</td>\n",
       "      <td>0.019278</td>\n",
       "      <td>5.92</td>\n",
       "      <td>Tier 3</td>\n",
       "      <td>Medium</td>\n",
       "      <td>Supermarket Type2</td>\n",
       "      <td>Non Perishables</td>\n",
       "      <td>4</td>\n",
       "      <td>Others</td>\n",
       "      <td>DR</td>\n",
       "    </tr>\n",
       "    <tr>\n",
       "      <td>2</td>\n",
       "      <td>Low Fat</td>\n",
       "      <td>141.6180</td>\n",
       "      <td>2097.2700</td>\n",
       "      <td>0.016760</td>\n",
       "      <td>17.50</td>\n",
       "      <td>Tier 1</td>\n",
       "      <td>Small</td>\n",
       "      <td>Supermarket Type1</td>\n",
       "      <td>Perishables</td>\n",
       "      <td>14</td>\n",
       "      <td>Others</td>\n",
       "      <td>FD</td>\n",
       "    </tr>\n",
       "    <tr>\n",
       "      <td>3</td>\n",
       "      <td>Regular</td>\n",
       "      <td>182.0950</td>\n",
       "      <td>732.3800</td>\n",
       "      <td>0.017834</td>\n",
       "      <td>19.20</td>\n",
       "      <td>Tier 3</td>\n",
       "      <td>Small</td>\n",
       "      <td>Grocery Store</td>\n",
       "      <td>Perishables</td>\n",
       "      <td>15</td>\n",
       "      <td>Others</td>\n",
       "      <td>FD</td>\n",
       "    </tr>\n",
       "    <tr>\n",
       "      <td>4</td>\n",
       "      <td>Non Edible</td>\n",
       "      <td>53.8614</td>\n",
       "      <td>994.7052</td>\n",
       "      <td>0.009780</td>\n",
       "      <td>8.93</td>\n",
       "      <td>Tier 3</td>\n",
       "      <td>Small</td>\n",
       "      <td>Supermarket Type1</td>\n",
       "      <td>Non Perishables</td>\n",
       "      <td>26</td>\n",
       "      <td>Others</td>\n",
       "      <td>NC</td>\n",
       "    </tr>\n",
       "  </tbody>\n",
       "</table>\n",
       "</div>"
      ],
      "text/plain": [
       "  Item_Fat_Content  Item_MRP  Item_Outlet_Sales  Item_Visibility  Item_Weight  \\\n",
       "0          Low Fat  249.8092          3735.1380         0.016047         9.30   \n",
       "1          Regular   48.2692           443.4228         0.019278         5.92   \n",
       "2          Low Fat  141.6180          2097.2700         0.016760        17.50   \n",
       "3          Regular  182.0950           732.3800         0.017834        19.20   \n",
       "4       Non Edible   53.8614           994.7052         0.009780         8.93   \n",
       "\n",
       "  Outlet_Location_Type Outlet_Size        Outlet_Type ItemType_Category  \\\n",
       "0               Tier 1       Small  Supermarket Type1       Perishables   \n",
       "1               Tier 3      Medium  Supermarket Type2   Non Perishables   \n",
       "2               Tier 1       Small  Supermarket Type1       Perishables   \n",
       "3               Tier 3       Small      Grocery Store       Perishables   \n",
       "4               Tier 3       Small  Supermarket Type1   Non Perishables   \n",
       "\n",
       "   Vintage Outlets ItemID_Cat  \n",
       "0       14  Others         FD  \n",
       "1        4  Others         DR  \n",
       "2       14  Others         FD  \n",
       "3       15  Others         FD  \n",
       "4       26  Others         NC  "
      ]
     },
     "execution_count": 68,
     "metadata": {},
     "output_type": "execute_result"
    }
   ],
   "source": [
    "newtrain.head()"
   ]
  },
  {
   "cell_type": "code",
   "execution_count": 69,
   "metadata": {},
   "outputs": [
    {
     "data": {
      "text/html": [
       "<div>\n",
       "<style scoped>\n",
       "    .dataframe tbody tr th:only-of-type {\n",
       "        vertical-align: middle;\n",
       "    }\n",
       "\n",
       "    .dataframe tbody tr th {\n",
       "        vertical-align: top;\n",
       "    }\n",
       "\n",
       "    .dataframe thead th {\n",
       "        text-align: right;\n",
       "    }\n",
       "</style>\n",
       "<table border=\"1\" class=\"dataframe\">\n",
       "  <thead>\n",
       "    <tr style=\"text-align: right;\">\n",
       "      <th></th>\n",
       "      <th>Item_Fat_Content</th>\n",
       "      <th>Item_MRP</th>\n",
       "      <th>Item_Visibility</th>\n",
       "      <th>Item_Weight</th>\n",
       "      <th>Outlet_Location_Type</th>\n",
       "      <th>Outlet_Size</th>\n",
       "      <th>Outlet_Type</th>\n",
       "      <th>ItemType_Category</th>\n",
       "      <th>Vintage</th>\n",
       "      <th>Outlets</th>\n",
       "      <th>ItemID_Cat</th>\n",
       "    </tr>\n",
       "  </thead>\n",
       "  <tbody>\n",
       "    <tr>\n",
       "      <td>0</td>\n",
       "      <td>Low Fat</td>\n",
       "      <td>107.8622</td>\n",
       "      <td>0.007565</td>\n",
       "      <td>20.750</td>\n",
       "      <td>Tier 1</td>\n",
       "      <td>Small</td>\n",
       "      <td>Supermarket Type1</td>\n",
       "      <td>Non Perishables</td>\n",
       "      <td>14</td>\n",
       "      <td>Others</td>\n",
       "      <td>FD</td>\n",
       "    </tr>\n",
       "    <tr>\n",
       "      <td>1</td>\n",
       "      <td>Regular</td>\n",
       "      <td>87.3198</td>\n",
       "      <td>0.038428</td>\n",
       "      <td>8.300</td>\n",
       "      <td>Tier 2</td>\n",
       "      <td>Small</td>\n",
       "      <td>Supermarket Type1</td>\n",
       "      <td>Perishables</td>\n",
       "      <td>6</td>\n",
       "      <td>Others</td>\n",
       "      <td>FD</td>\n",
       "    </tr>\n",
       "    <tr>\n",
       "      <td>2</td>\n",
       "      <td>Non Edible</td>\n",
       "      <td>241.7538</td>\n",
       "      <td>0.099575</td>\n",
       "      <td>14.600</td>\n",
       "      <td>Tier 3</td>\n",
       "      <td>Small</td>\n",
       "      <td>Grocery Store</td>\n",
       "      <td>Non Perishables</td>\n",
       "      <td>15</td>\n",
       "      <td>Others</td>\n",
       "      <td>NC</td>\n",
       "    </tr>\n",
       "    <tr>\n",
       "      <td>3</td>\n",
       "      <td>Low Fat</td>\n",
       "      <td>155.0340</td>\n",
       "      <td>0.015388</td>\n",
       "      <td>7.315</td>\n",
       "      <td>Tier 2</td>\n",
       "      <td>Small</td>\n",
       "      <td>Supermarket Type1</td>\n",
       "      <td>Non Perishables</td>\n",
       "      <td>6</td>\n",
       "      <td>Others</td>\n",
       "      <td>FD</td>\n",
       "    </tr>\n",
       "    <tr>\n",
       "      <td>4</td>\n",
       "      <td>Regular</td>\n",
       "      <td>234.2300</td>\n",
       "      <td>0.118599</td>\n",
       "      <td>13.600</td>\n",
       "      <td>Tier 3</td>\n",
       "      <td>Medium</td>\n",
       "      <td>Supermarket Type3</td>\n",
       "      <td>Perishables</td>\n",
       "      <td>28</td>\n",
       "      <td>OUT027</td>\n",
       "      <td>FD</td>\n",
       "    </tr>\n",
       "  </tbody>\n",
       "</table>\n",
       "</div>"
      ],
      "text/plain": [
       "  Item_Fat_Content  Item_MRP  Item_Visibility  Item_Weight  \\\n",
       "0          Low Fat  107.8622         0.007565       20.750   \n",
       "1          Regular   87.3198         0.038428        8.300   \n",
       "2       Non Edible  241.7538         0.099575       14.600   \n",
       "3          Low Fat  155.0340         0.015388        7.315   \n",
       "4          Regular  234.2300         0.118599       13.600   \n",
       "\n",
       "  Outlet_Location_Type Outlet_Size        Outlet_Type ItemType_Category  \\\n",
       "0               Tier 1       Small  Supermarket Type1   Non Perishables   \n",
       "1               Tier 2       Small  Supermarket Type1       Perishables   \n",
       "2               Tier 3       Small      Grocery Store   Non Perishables   \n",
       "3               Tier 2       Small  Supermarket Type1   Non Perishables   \n",
       "4               Tier 3      Medium  Supermarket Type3       Perishables   \n",
       "\n",
       "   Vintage Outlets ItemID_Cat  \n",
       "0       14  Others         FD  \n",
       "1        6  Others         FD  \n",
       "2       15  Others         NC  \n",
       "3        6  Others         FD  \n",
       "4       28  OUT027         FD  "
      ]
     },
     "execution_count": 69,
     "metadata": {},
     "output_type": "execute_result"
    }
   ],
   "source": [
    "newtest.drop('Item_Outlet_Sales',axis=1,inplace=True)\n",
    "newtest.head()"
   ]
  },
  {
   "cell_type": "code",
   "execution_count": 70,
   "metadata": {},
   "outputs": [
    {
     "data": {
      "text/plain": [
       "((8523, 12), (5681, 11))"
      ]
     },
     "execution_count": 70,
     "metadata": {},
     "output_type": "execute_result"
    }
   ],
   "source": [
    "newtrain.shape,newtest.shape"
   ]
  },
  {
   "cell_type": "markdown",
   "metadata": {},
   "source": [
    "-------------------"
   ]
  },
  {
   "cell_type": "markdown",
   "metadata": {},
   "source": [
    "### Model Building"
   ]
  },
  {
   "cell_type": "code",
   "execution_count": 71,
   "metadata": {},
   "outputs": [],
   "source": [
    "# dummies\n",
    "dummytrain = pd.get_dummies(newtrain,drop_first=True)\n",
    "dummytest = pd.get_dummies(newtest,drop_first=True)"
   ]
  },
  {
   "cell_type": "code",
   "execution_count": 72,
   "metadata": {},
   "outputs": [
    {
     "data": {
      "text/plain": [
       "((8523, 17), (5681, 16))"
      ]
     },
     "execution_count": 72,
     "metadata": {},
     "output_type": "execute_result"
    }
   ],
   "source": [
    "dummytrain.shape,dummytest.shape"
   ]
  },
  {
   "cell_type": "code",
   "execution_count": 73,
   "metadata": {},
   "outputs": [
    {
     "name": "stdout",
     "output_type": "stream",
     "text": [
      "RMSE : 1142.927\n"
     ]
    }
   ],
   "source": [
    "# Validation Set comes from Train Set\n",
    "from sklearn.model_selection import train_test_split\n",
    "from sklearn.linear_model import LinearRegression,Ridge,Lasso\n",
    "from sklearn.metrics import mean_squared_error\n",
    "\n",
    "lr = LinearRegression()\n",
    "ridge = Ridge(alpha=0.5,normalize=True)\n",
    "lasso = Lasso(alpha=0.5,normalize=True)\n",
    "\n",
    "# Define x and y\n",
    "X = dummytrain.drop('Item_Outlet_Sales',axis=1)\n",
    "y = dummytrain.Item_Outlet_Sales\n",
    "\n",
    "xtrain, xtest, ytrain, ytest = train_test_split(X,y,test_size = 0.20,random_state = 1)\n",
    "\n",
    "# Def a Function that will return RMSE\n",
    "\n",
    "def rmse(y_test,pred):\n",
    "    RMSE = np.sqrt(mean_squared_error(y_test,pred))\n",
    "    print('RMSE :',np.round(RMSE,4))\n",
    "    \n",
    "pred_lr = lr.fit(xtrain,ytrain).predict(xtest)\n",
    "rmse(ytest,pred_lr)"
   ]
  },
  {
   "cell_type": "code",
   "execution_count": 74,
   "metadata": {},
   "outputs": [],
   "source": [
    "# Building Linear Model\n",
    "pred_reg = lr.fit(X,y).predict(dummytest)\n",
    "\n",
    "# Submission Dataframe\n",
    "\n",
    "solution = pd.DataFrame({'Item_Identifier' : test.Item_Identifier,\n",
    "                         'Outlet_Identifier' : test.Outlet_Identifier,\n",
    "                         'Item_Outlet_Sales' : pred_reg})\n",
    "\n",
    "# Export to csv\n",
    "solution.to_csv('LinearModel.csv',index=False) #Name with Extension, Index-False"
   ]
  },
  {
   "cell_type": "code",
   "execution_count": 75,
   "metadata": {},
   "outputs": [],
   "source": [
    "# Building Bagging Model\n",
    "from sklearn.ensemble import BaggingRegressor\n",
    "\n",
    "bagg = BaggingRegressor()\n",
    "pred_bagg = bagg.fit(X,y).predict(dummytest)\n",
    "\n",
    "# Submission Dataframe\n",
    "\n",
    "solution = pd.DataFrame({'Item_Identifier' : test.Item_Identifier,\n",
    "                         'Outlet_Identifier' : test.Outlet_Identifier,\n",
    "                         'Item_Outlet_Sales' : pred_bagg})\n",
    "\n",
    "# Export to csv\n",
    "solution.to_csv('Bagging_Model.csv',index=False) #Name with Extension, Index-False\n",
    "\n",
    "# RMSE = 1280\n",
    "# Intercept+Slope - Showing"
   ]
  },
  {
   "cell_type": "code",
   "execution_count": 79,
   "metadata": {
    "scrolled": true
   },
   "outputs": [
    {
     "data": {
      "image/png": "[encoded data removed]",
      "text/plain": [
       "<Figure size 1080x576 with 1 Axes>"
      ]
     },
     "metadata": {
      "needs_background": "light"
     },
     "output_type": "display_data"
    }
   ],
   "source": [
    "# Regression Coefficient\n",
    "\n",
    "pd.Series(lr.coef_,X.columns).sort_values().plot(kind = 'bar',figsize=(15,8))\n",
    "plt.show()"
   ]
  },
  {
   "cell_type": "markdown",
   "metadata": {},
   "source": [
    "#### Thus Not able to Fit Linear Regression\n",
    "* Some Features are getting more importance and others not, so need to introduce Regularization.\n",
    "* 2Types : L1,L2 --> Lasso,Ridge"
   ]
  },
  {
   "cell_type": "code",
   "execution_count": 84,
   "metadata": {},
   "outputs": [],
   "source": [
    "from sklearn.linear_model import Lasso, LassoCV, Ridge, RidgeCV\n",
    "\n",
    "# Predictor and Target\n",
    "X = dummytrain.drop('Item_Outlet_Sales',axis=1)\n",
    "y = dummytrain.Item_Outlet_Sales\n",
    "\n",
    "# train-test split\n",
    "xtrain, xtest, ytrain, ytest = train_test_split(X,y,test_size = 0.20,random_state = 42)"
   ]
  },
  {
   "cell_type": "markdown",
   "metadata": {},
   "source": [
    "## Lasso Regression"
   ]
  },
  {
   "cell_type": "code",
   "execution_count": 87,
   "metadata": {},
   "outputs": [
    {
     "name": "stdout",
     "output_type": "stream",
     "text": [
      "Train RMSE : 1143.930579212967\n",
      "Test RMSE : 1067.9621266477911\n"
     ]
    }
   ],
   "source": [
    "lasso = Lasso(alpha=0.1,normalize=True) # Normalize =  True --> Model to give Equal Weightage to all\n",
    "\n",
    "pred_train = lasso.fit(xtrain,ytrain).predict(xtrain)\n",
    "pred_test = lasso.fit(xtrain,ytrain).predict(xtest)\n",
    "\n",
    "print('Train RMSE :',np.sqrt(mean_squared_error(ytrain,pred_train)))\n",
    "print('Test RMSE :',np.sqrt(mean_squared_error(ytest,pred_test)))"
   ]
  },
  {
   "cell_type": "code",
   "execution_count": 88,
   "metadata": {},
   "outputs": [
    {
     "data": {
      "image/png": "[encoded data removed]",
      "text/plain": [
       "<Figure size 1080x576 with 1 Axes>"
      ]
     },
     "metadata": {
      "needs_background": "light"
     },
     "output_type": "display_data"
    }
   ],
   "source": [
    "# Plot Coefficients\n",
    "pd.Series(lasso.coef_,xtrain.columns).sort_values().plot(kind = 'bar',figsize=(15,8))\n",
    "plt.show()\n",
    "\n",
    "# As we increase alpha, More features dissolve from the model"
   ]
  },
  {
   "cell_type": "code",
   "execution_count": 104,
   "metadata": {},
   "outputs": [],
   "source": [
    "# Function that tells me which predictors are 0s basis alpha values\n",
    "\n",
    "def lassos(alphas):\n",
    "    df = pd.DataFrame()\n",
    "    \n",
    "    df['Features'] = xtrain.columns\n",
    "    \n",
    "    #loop for all alphas\n",
    "    for i in alphas:\n",
    "        lasso = Lasso(alpha=i)\n",
    "        lasso.fit(xtrain,ytrain)\n",
    "        \n",
    "        col_name = 'Alpha = %.3f' %i\n",
    "        df[col_name] = np.round(lasso.coef_,3)\n",
    "    return df"
   ]
  },
  {
   "cell_type": "code",
   "execution_count": 114,
   "metadata": {},
   "outputs": [
    {
     "data": {
      "text/html": [
       "<div>\n",
       "<style scoped>\n",
       "    .dataframe tbody tr th:only-of-type {\n",
       "        vertical-align: middle;\n",
       "    }\n",
       "\n",
       "    .dataframe tbody tr th {\n",
       "        vertical-align: top;\n",
       "    }\n",
       "\n",
       "    .dataframe thead th {\n",
       "        text-align: right;\n",
       "    }\n",
       "</style>\n",
       "<table border=\"1\" class=\"dataframe\">\n",
       "  <thead>\n",
       "    <tr style=\"text-align: right;\">\n",
       "      <th></th>\n",
       "      <th>Features</th>\n",
       "      <th>Alpha = 0.100</th>\n",
       "      <th>Alpha = 0.010</th>\n",
       "      <th>Alpha = 0.001</th>\n",
       "      <th>Alpha = 0.500</th>\n",
       "      <th>Alpha = 0.990</th>\n",
       "      <th>Alpha = 1.000</th>\n",
       "      <th>Alpha = 2.000</th>\n",
       "      <th>Alpha = 5.000</th>\n",
       "      <th>Alpha = 10.000</th>\n",
       "      <th>Alpha = 20.000</th>\n",
       "      <th>Alpha = 30.000</th>\n",
       "      <th>Alpha = 50.000</th>\n",
       "    </tr>\n",
       "  </thead>\n",
       "  <tbody>\n",
       "    <tr>\n",
       "      <td>0</td>\n",
       "      <td>Item_MRP</td>\n",
       "      <td>15.634</td>\n",
       "      <td>15.634</td>\n",
       "      <td>15.634</td>\n",
       "      <td>15.637</td>\n",
       "      <td>15.640</td>\n",
       "      <td>15.640</td>\n",
       "      <td>15.641</td>\n",
       "      <td>15.642</td>\n",
       "      <td>15.638</td>\n",
       "      <td>15.632</td>\n",
       "      <td>15.625</td>\n",
       "      <td>15.613</td>\n",
       "    </tr>\n",
       "    <tr>\n",
       "      <td>1</td>\n",
       "      <td>Item_Visibility</td>\n",
       "      <td>-296.297</td>\n",
       "      <td>-332.862</td>\n",
       "      <td>-336.522</td>\n",
       "      <td>-133.250</td>\n",
       "      <td>-0.000</td>\n",
       "      <td>-0.000</td>\n",
       "      <td>-0.000</td>\n",
       "      <td>-0.000</td>\n",
       "      <td>-0.000</td>\n",
       "      <td>-0.000</td>\n",
       "      <td>-0.000</td>\n",
       "      <td>-0.000</td>\n",
       "    </tr>\n",
       "    <tr>\n",
       "      <td>2</td>\n",
       "      <td>Item_Weight</td>\n",
       "      <td>-1.257</td>\n",
       "      <td>-1.281</td>\n",
       "      <td>-1.283</td>\n",
       "      <td>-1.156</td>\n",
       "      <td>-1.064</td>\n",
       "      <td>-1.064</td>\n",
       "      <td>-1.026</td>\n",
       "      <td>-0.920</td>\n",
       "      <td>-0.756</td>\n",
       "      <td>-0.340</td>\n",
       "      <td>-0.000</td>\n",
       "      <td>-0.000</td>\n",
       "    </tr>\n",
       "    <tr>\n",
       "      <td>3</td>\n",
       "      <td>Vintage</td>\n",
       "      <td>-0.802</td>\n",
       "      <td>-0.687</td>\n",
       "      <td>-0.676</td>\n",
       "      <td>-0.763</td>\n",
       "      <td>-0.835</td>\n",
       "      <td>-0.839</td>\n",
       "      <td>-0.627</td>\n",
       "      <td>-0.607</td>\n",
       "      <td>-0.585</td>\n",
       "      <td>-0.544</td>\n",
       "      <td>-0.501</td>\n",
       "      <td>-0.408</td>\n",
       "    </tr>\n",
       "    <tr>\n",
       "      <td>4</td>\n",
       "      <td>Item_Fat_Content_Non Edible</td>\n",
       "      <td>0.000</td>\n",
       "      <td>0.000</td>\n",
       "      <td>-41.456</td>\n",
       "      <td>0.643</td>\n",
       "      <td>0.000</td>\n",
       "      <td>0.000</td>\n",
       "      <td>0.000</td>\n",
       "      <td>-0.000</td>\n",
       "      <td>-0.000</td>\n",
       "      <td>-0.000</td>\n",
       "      <td>-0.000</td>\n",
       "      <td>-0.000</td>\n",
       "    </tr>\n",
       "    <tr>\n",
       "      <td>5</td>\n",
       "      <td>Item_Fat_Content_Regular</td>\n",
       "      <td>44.759</td>\n",
       "      <td>45.192</td>\n",
       "      <td>45.236</td>\n",
       "      <td>42.941</td>\n",
       "      <td>40.963</td>\n",
       "      <td>40.934</td>\n",
       "      <td>38.150</td>\n",
       "      <td>29.582</td>\n",
       "      <td>8.185</td>\n",
       "      <td>0.000</td>\n",
       "      <td>0.000</td>\n",
       "      <td>0.000</td>\n",
       "    </tr>\n",
       "    <tr>\n",
       "      <td>6</td>\n",
       "      <td>Outlet_Location_Type_Tier 2</td>\n",
       "      <td>6.178</td>\n",
       "      <td>7.819</td>\n",
       "      <td>7.984</td>\n",
       "      <td>3.975</td>\n",
       "      <td>0.185</td>\n",
       "      <td>0.096</td>\n",
       "      <td>0.000</td>\n",
       "      <td>0.000</td>\n",
       "      <td>0.000</td>\n",
       "      <td>0.000</td>\n",
       "      <td>0.000</td>\n",
       "      <td>0.000</td>\n",
       "    </tr>\n",
       "    <tr>\n",
       "      <td>7</td>\n",
       "      <td>Outlet_Location_Type_Tier 3</td>\n",
       "      <td>15.860</td>\n",
       "      <td>15.754</td>\n",
       "      <td>15.743</td>\n",
       "      <td>11.553</td>\n",
       "      <td>7.257</td>\n",
       "      <td>7.195</td>\n",
       "      <td>0.000</td>\n",
       "      <td>0.000</td>\n",
       "      <td>0.000</td>\n",
       "      <td>0.000</td>\n",
       "      <td>0.000</td>\n",
       "      <td>0.000</td>\n",
       "    </tr>\n",
       "    <tr>\n",
       "      <td>8</td>\n",
       "      <td>Outlet_Size_Small</td>\n",
       "      <td>-1547.691</td>\n",
       "      <td>-1064.326</td>\n",
       "      <td>-1015.990</td>\n",
       "      <td>-1611.286</td>\n",
       "      <td>-1609.915</td>\n",
       "      <td>-1609.699</td>\n",
       "      <td>-1600.859</td>\n",
       "      <td>-1553.723</td>\n",
       "      <td>-1474.773</td>\n",
       "      <td>-1316.756</td>\n",
       "      <td>-1158.801</td>\n",
       "      <td>-842.964</td>\n",
       "    </tr>\n",
       "    <tr>\n",
       "      <td>9</td>\n",
       "      <td>Outlet_Type_Supermarket Type1</td>\n",
       "      <td>1958.808</td>\n",
       "      <td>1958.833</td>\n",
       "      <td>1958.836</td>\n",
       "      <td>1958.628</td>\n",
       "      <td>1955.587</td>\n",
       "      <td>1955.402</td>\n",
       "      <td>1937.108</td>\n",
       "      <td>1885.166</td>\n",
       "      <td>1798.493</td>\n",
       "      <td>1624.835</td>\n",
       "      <td>1451.128</td>\n",
       "      <td>1103.688</td>\n",
       "    </tr>\n",
       "    <tr>\n",
       "      <td>10</td>\n",
       "      <td>Outlet_Type_Supermarket Type2</td>\n",
       "      <td>59.432</td>\n",
       "      <td>545.571</td>\n",
       "      <td>594.185</td>\n",
       "      <td>0.000</td>\n",
       "      <td>0.000</td>\n",
       "      <td>0.000</td>\n",
       "      <td>0.000</td>\n",
       "      <td>0.000</td>\n",
       "      <td>0.000</td>\n",
       "      <td>0.000</td>\n",
       "      <td>0.000</td>\n",
       "      <td>0.000</td>\n",
       "    </tr>\n",
       "    <tr>\n",
       "      <td>11</td>\n",
       "      <td>Outlet_Type_Supermarket Type3</td>\n",
       "      <td>1802.736</td>\n",
       "      <td>2286.037</td>\n",
       "      <td>2334.367</td>\n",
       "      <td>1738.645</td>\n",
       "      <td>1736.534</td>\n",
       "      <td>1736.554</td>\n",
       "      <td>1722.591</td>\n",
       "      <td>1695.253</td>\n",
       "      <td>1649.825</td>\n",
       "      <td>1559.179</td>\n",
       "      <td>1468.490</td>\n",
       "      <td>1287.010</td>\n",
       "    </tr>\n",
       "    <tr>\n",
       "      <td>12</td>\n",
       "      <td>ItemType_Category_Perishables</td>\n",
       "      <td>12.669</td>\n",
       "      <td>13.086</td>\n",
       "      <td>13.130</td>\n",
       "      <td>10.810</td>\n",
       "      <td>8.849</td>\n",
       "      <td>8.824</td>\n",
       "      <td>6.278</td>\n",
       "      <td>0.000</td>\n",
       "      <td>0.000</td>\n",
       "      <td>0.000</td>\n",
       "      <td>0.000</td>\n",
       "      <td>0.000</td>\n",
       "    </tr>\n",
       "    <tr>\n",
       "      <td>13</td>\n",
       "      <td>Outlets_Others</td>\n",
       "      <td>-0.010</td>\n",
       "      <td>-0.010</td>\n",
       "      <td>-0.010</td>\n",
       "      <td>-0.011</td>\n",
       "      <td>-0.010</td>\n",
       "      <td>-0.010</td>\n",
       "      <td>-0.006</td>\n",
       "      <td>-0.000</td>\n",
       "      <td>-0.000</td>\n",
       "      <td>-0.000</td>\n",
       "      <td>-0.000</td>\n",
       "      <td>-0.000</td>\n",
       "    </tr>\n",
       "    <tr>\n",
       "      <td>14</td>\n",
       "      <td>ItemID_Cat_FD</td>\n",
       "      <td>26.314</td>\n",
       "      <td>28.196</td>\n",
       "      <td>28.404</td>\n",
       "      <td>17.791</td>\n",
       "      <td>10.134</td>\n",
       "      <td>10.113</td>\n",
       "      <td>7.887</td>\n",
       "      <td>0.664</td>\n",
       "      <td>0.000</td>\n",
       "      <td>0.000</td>\n",
       "      <td>0.000</td>\n",
       "      <td>0.000</td>\n",
       "    </tr>\n",
       "    <tr>\n",
       "      <td>15</td>\n",
       "      <td>ItemID_Cat_NC</td>\n",
       "      <td>19.825</td>\n",
       "      <td>22.200</td>\n",
       "      <td>63.912</td>\n",
       "      <td>8.586</td>\n",
       "      <td>0.000</td>\n",
       "      <td>0.000</td>\n",
       "      <td>0.000</td>\n",
       "      <td>-0.000</td>\n",
       "      <td>-0.000</td>\n",
       "      <td>-0.000</td>\n",
       "      <td>-0.000</td>\n",
       "      <td>-0.000</td>\n",
       "    </tr>\n",
       "  </tbody>\n",
       "</table>\n",
       "</div>"
      ],
      "text/plain": [
       "                         Features  Alpha = 0.100  Alpha = 0.010  \\\n",
       "0                        Item_MRP         15.634         15.634   \n",
       "1                 Item_Visibility       -296.297       -332.862   \n",
       "2                     Item_Weight         -1.257         -1.281   \n",
       "3                         Vintage         -0.802         -0.687   \n",
       "4     Item_Fat_Content_Non Edible          0.000          0.000   \n",
       "5        Item_Fat_Content_Regular         44.759         45.192   \n",
       "6     Outlet_Location_Type_Tier 2          6.178          7.819   \n",
       "7     Outlet_Location_Type_Tier 3         15.860         15.754   \n",
       "8               Outlet_Size_Small      -1547.691      -1064.326   \n",
       "9   Outlet_Type_Supermarket Type1       1958.808       1958.833   \n",
       "10  Outlet_Type_Supermarket Type2         59.432        545.571   \n",
       "11  Outlet_Type_Supermarket Type3       1802.736       2286.037   \n",
       "12  ItemType_Category_Perishables         12.669         13.086   \n",
       "13                 Outlets_Others         -0.010         -0.010   \n",
       "14                  ItemID_Cat_FD         26.314         28.196   \n",
       "15                  ItemID_Cat_NC         19.825         22.200   \n",
       "\n",
       "    Alpha = 0.001  Alpha = 0.500  Alpha = 0.990  Alpha = 1.000  Alpha = 2.000  \\\n",
       "0          15.634         15.637         15.640         15.640         15.641   \n",
       "1        -336.522       -133.250         -0.000         -0.000         -0.000   \n",
       "2          -1.283         -1.156         -1.064         -1.064         -1.026   \n",
       "3          -0.676         -0.763         -0.835         -0.839         -0.627   \n",
       "4         -41.456          0.643          0.000          0.000          0.000   \n",
       "5          45.236         42.941         40.963         40.934         38.150   \n",
       "6           7.984          3.975          0.185          0.096          0.000   \n",
       "7          15.743         11.553          7.257          7.195          0.000   \n",
       "8       -1015.990      -1611.286      -1609.915      -1609.699      -1600.859   \n",
       "9        1958.836       1958.628       1955.587       1955.402       1937.108   \n",
       "10        594.185          0.000          0.000          0.000          0.000   \n",
       "11       2334.367       1738.645       1736.534       1736.554       1722.591   \n",
       "12         13.130         10.810          8.849          8.824          6.278   \n",
       "13         -0.010         -0.011         -0.010         -0.010         -0.006   \n",
       "14         28.404         17.791         10.134         10.113          7.887   \n",
       "15         63.912          8.586          0.000          0.000          0.000   \n",
       "\n",
       "    Alpha = 5.000  Alpha = 10.000  Alpha = 20.000  Alpha = 30.000  \\\n",
       "0          15.642          15.638          15.632          15.625   \n",
       "1          -0.000          -0.000          -0.000          -0.000   \n",
       "2          -0.920          -0.756          -0.340          -0.000   \n",
       "3          -0.607          -0.585          -0.544          -0.501   \n",
       "4          -0.000          -0.000          -0.000          -0.000   \n",
       "5          29.582           8.185           0.000           0.000   \n",
       "6           0.000           0.000           0.000           0.000   \n",
       "7           0.000           0.000           0.000           0.000   \n",
       "8       -1553.723       -1474.773       -1316.756       -1158.801   \n",
       "9        1885.166        1798.493        1624.835        1451.128   \n",
       "10          0.000           0.000           0.000           0.000   \n",
       "11       1695.253        1649.825        1559.179        1468.490   \n",
       "12          0.000           0.000           0.000           0.000   \n",
       "13         -0.000          -0.000          -0.000          -0.000   \n",
       "14          0.664           0.000           0.000           0.000   \n",
       "15         -0.000          -0.000          -0.000          -0.000   \n",
       "\n",
       "    Alpha = 50.000  \n",
       "0           15.613  \n",
       "1           -0.000  \n",
       "2           -0.000  \n",
       "3           -0.408  \n",
       "4           -0.000  \n",
       "5            0.000  \n",
       "6            0.000  \n",
       "7            0.000  \n",
       "8         -842.964  \n",
       "9         1103.688  \n",
       "10           0.000  \n",
       "11        1287.010  \n",
       "12           0.000  \n",
       "13          -0.000  \n",
       "14           0.000  \n",
       "15          -0.000  "
      ]
     },
     "execution_count": 114,
     "metadata": {},
     "output_type": "execute_result"
    }
   ],
   "source": [
    "# [0.1, 0.01, 0.001, 0.5, 0.99, 1, 2, 5, 10]\n",
    "lassos([0.1, 0.01, 0.001, 0.5, 0.99, 1, 2, 5, 10, 20, 30, 50])"
   ]
  },
  {
   "cell_type": "code",
   "execution_count": 125,
   "metadata": {},
   "outputs": [],
   "source": [
    "# Finding RMSE and R2 Behaviour basis  different Alphas\n",
    "from sklearn.metrics import r2_score\n",
    "rmse_train = []\n",
    "rmse_test = []\n",
    "al = []\n",
    "r2 = []\n",
    "\n",
    "alphas = [0.1, 0.09 ,0.01, 0.001, 0.5, 0.99, 1, 2, 5, 10, 20, 30, 50]\n",
    "\n",
    "for i in alphas:\n",
    "    lasso = Lasso(alpha=i,normalize=True)\n",
    "    al.append(i)\n",
    "    pred_train = lasso.fit(xtrain,ytrain).predict(xtrain)\n",
    "    pred_test = lasso.fit(xtrain,ytrain).predict(xtest)\n",
    "    \n",
    "    rmse_train.append(np.sqrt(mean_squared_error(ytrain,pred_train)))\n",
    "    rmse_test.append(np.sqrt(mean_squared_error(ytest,pred_test)))\n",
    "    r2.append(r2_score(ytest,pred_test))"
   ]
  },
  {
   "cell_type": "code",
   "execution_count": 126,
   "metadata": {},
   "outputs": [
    {
     "data": {
      "text/html": [
       "<div>\n",
       "<style scoped>\n",
       "    .dataframe tbody tr th:only-of-type {\n",
       "        vertical-align: middle;\n",
       "    }\n",
       "\n",
       "    .dataframe tbody tr th {\n",
       "        vertical-align: top;\n",
       "    }\n",
       "\n",
       "    .dataframe thead th {\n",
       "        text-align: right;\n",
       "    }\n",
       "</style>\n",
       "<table border=\"1\" class=\"dataframe\">\n",
       "  <thead>\n",
       "    <tr style=\"text-align: right;\">\n",
       "      <th></th>\n",
       "      <th>Alpha</th>\n",
       "      <th>RSq</th>\n",
       "      <th>RMSE_Train</th>\n",
       "      <th>RMSE_Test</th>\n",
       "    </tr>\n",
       "  </thead>\n",
       "  <tbody>\n",
       "    <tr>\n",
       "      <td>1</td>\n",
       "      <td>0.090</td>\n",
       "      <td>0.580380</td>\n",
       "      <td>1143.871859</td>\n",
       "      <td>1067.949044</td>\n",
       "    </tr>\n",
       "    <tr>\n",
       "      <td>0</td>\n",
       "      <td>0.100</td>\n",
       "      <td>0.580370</td>\n",
       "      <td>1143.930579</td>\n",
       "      <td>1067.962127</td>\n",
       "    </tr>\n",
       "    <tr>\n",
       "      <td>2</td>\n",
       "      <td>0.010</td>\n",
       "      <td>0.580115</td>\n",
       "      <td>1143.584738</td>\n",
       "      <td>1068.286561</td>\n",
       "    </tr>\n",
       "    <tr>\n",
       "      <td>3</td>\n",
       "      <td>0.001</td>\n",
       "      <td>0.580005</td>\n",
       "      <td>1143.577496</td>\n",
       "      <td>1068.425864</td>\n",
       "    </tr>\n",
       "    <tr>\n",
       "      <td>4</td>\n",
       "      <td>0.500</td>\n",
       "      <td>0.576838</td>\n",
       "      <td>1150.402300</td>\n",
       "      <td>1072.446055</td>\n",
       "    </tr>\n",
       "    <tr>\n",
       "      <td>5</td>\n",
       "      <td>0.990</td>\n",
       "      <td>0.563019</td>\n",
       "      <td>1169.002294</td>\n",
       "      <td>1089.816563</td>\n",
       "    </tr>\n",
       "    <tr>\n",
       "      <td>6</td>\n",
       "      <td>1.000</td>\n",
       "      <td>0.562625</td>\n",
       "      <td>1169.503565</td>\n",
       "      <td>1090.308802</td>\n",
       "    </tr>\n",
       "    <tr>\n",
       "      <td>7</td>\n",
       "      <td>2.000</td>\n",
       "      <td>0.500696</td>\n",
       "      <td>1242.768202</td>\n",
       "      <td>1164.943143</td>\n",
       "    </tr>\n",
       "    <tr>\n",
       "      <td>8</td>\n",
       "      <td>5.000</td>\n",
       "      <td>0.311961</td>\n",
       "      <td>1438.159537</td>\n",
       "      <td>1367.504685</td>\n",
       "    </tr>\n",
       "    <tr>\n",
       "      <td>9</td>\n",
       "      <td>10.000</td>\n",
       "      <td>0.089069</td>\n",
       "      <td>1641.509922</td>\n",
       "      <td>1573.493958</td>\n",
       "    </tr>\n",
       "    <tr>\n",
       "      <td>10</td>\n",
       "      <td>20.000</td>\n",
       "      <td>-0.004084</td>\n",
       "      <td>1719.898321</td>\n",
       "      <td>1651.989750</td>\n",
       "    </tr>\n",
       "    <tr>\n",
       "      <td>11</td>\n",
       "      <td>30.000</td>\n",
       "      <td>-0.004084</td>\n",
       "      <td>1719.898321</td>\n",
       "      <td>1651.989750</td>\n",
       "    </tr>\n",
       "    <tr>\n",
       "      <td>12</td>\n",
       "      <td>50.000</td>\n",
       "      <td>-0.004084</td>\n",
       "      <td>1719.898321</td>\n",
       "      <td>1651.989750</td>\n",
       "    </tr>\n",
       "  </tbody>\n",
       "</table>\n",
       "</div>"
      ],
      "text/plain": [
       "     Alpha       RSq   RMSE_Train    RMSE_Test\n",
       "1    0.090  0.580380  1143.871859  1067.949044\n",
       "0    0.100  0.580370  1143.930579  1067.962127\n",
       "2    0.010  0.580115  1143.584738  1068.286561\n",
       "3    0.001  0.580005  1143.577496  1068.425864\n",
       "4    0.500  0.576838  1150.402300  1072.446055\n",
       "5    0.990  0.563019  1169.002294  1089.816563\n",
       "6    1.000  0.562625  1169.503565  1090.308802\n",
       "7    2.000  0.500696  1242.768202  1164.943143\n",
       "8    5.000  0.311961  1438.159537  1367.504685\n",
       "9   10.000  0.089069  1641.509922  1573.493958\n",
       "10  20.000 -0.004084  1719.898321  1651.989750\n",
       "11  30.000 -0.004084  1719.898321  1651.989750\n",
       "12  50.000 -0.004084  1719.898321  1651.989750"
      ]
     },
     "execution_count": 126,
     "metadata": {},
     "output_type": "execute_result"
    }
   ],
   "source": [
    "lasso_df = pd.DataFrame({'Alpha' : al,\n",
    "                         'RSq' : r2,\n",
    "                         'RMSE_Train' : rmse_train,\n",
    "                         'RMSE_Test' : rmse_test})\n",
    "lasso_df.sort_values('RSq',ascending=False)\n",
    "\n",
    "# Higher Values of Alpha lesser the Model Complexity\n",
    "# R2 Reduces - Error Increases\n",
    "# This is Point where Prediction power is Compromised"
   ]
  },
  {
   "cell_type": "code",
   "execution_count": 127,
   "metadata": {},
   "outputs": [
    {
     "data": {
      "image/png": "[encoded data removed]",
      "text/plain": [
       "<Figure size 1080x576 with 1 Axes>"
      ]
     },
     "metadata": {
      "needs_background": "light"
     },
     "output_type": "display_data"
    }
   ],
   "source": [
    "plt.figure(figsize=(15,8))\n",
    "plt.plot(lasso_df.RMSE_Train,label = 'Training Error')\n",
    "plt.plot(lasso_df.RMSE_Test,label = 'Testing Error')\n",
    "plt.legend()\n",
    "plt.show()"
   ]
  },
  {
   "cell_type": "code",
   "execution_count": 128,
   "metadata": {},
   "outputs": [
    {
     "name": "stdout",
     "output_type": "stream",
     "text": [
      "Train Error : 1143.83477236959\n",
      "Test Error : 1067.94383430177\n"
     ]
    }
   ],
   "source": [
    "# If Test Error is Higher Than Training Error\n",
    "# You need to increase test %age\n",
    "# Apply CV to find the Same\n",
    "\n",
    "lassocv = LassoCV(cv=10,normalize=True,max_iter=1000)\n",
    "\n",
    "pred_train = lassocv.fit(xtrain,ytrain).predict(xtrain)\n",
    "pred_test = lassocv.fit(xtrain,ytrain).predict(xtest)\n",
    "\n",
    "print('Train Error :',np.sqrt(mean_squared_error(ytrain,pred_train)))\n",
    "print('Test Error :',np.sqrt(mean_squared_error(ytest,pred_test)))\n"
   ]
  },
  {
   "cell_type": "code",
   "execution_count": 129,
   "metadata": {},
   "outputs": [
    {
     "data": {
      "text/plain": [
       "0.08306921850519113"
      ]
     },
     "execution_count": 129,
     "metadata": {},
     "output_type": "execute_result"
    }
   ],
   "source": [
    "lassocv.alpha_"
   ]
  },
  {
   "cell_type": "markdown",
   "metadata": {},
   "source": [
    "* Seen the Effect of different Alpha values with Coefficients\n",
    "* Saw the effect of different Alpha values with R2Score and RMSE\n",
    "* Applied Lassocv to find same alpha value"
   ]
  },
  {
   "cell_type": "markdown",
   "metadata": {},
   "source": [
    "## Ridge Regression"
   ]
  },
  {
   "cell_type": "code",
   "execution_count": 130,
   "metadata": {},
   "outputs": [
    {
     "name": "stdout",
     "output_type": "stream",
     "text": [
      "Train RMSE : 1339.9589596946616\n",
      "Test RMSE : 1262.3136402003865\n"
     ]
    }
   ],
   "source": [
    "ridge = Ridge(alpha=1,normalize=True)\n",
    "\n",
    "\n",
    "pred_train = ridge.fit(xtrain,ytrain).predict(xtrain)\n",
    "pred_test = ridge.fit(xtrain,ytrain).predict(xtest)\n",
    "\n",
    "print('Train RMSE :',np.sqrt(mean_squared_error(ytrain,pred_train)))\n",
    "print('Test RMSE :',np.sqrt(mean_squared_error(ytest,pred_test)))"
   ]
  },
  {
   "cell_type": "code",
   "execution_count": 131,
   "metadata": {},
   "outputs": [
    {
     "data": {
      "image/png": "[encoded data removed]",
      "text/plain": [
       "<Figure size 1080x576 with 1 Axes>"
      ]
     },
     "metadata": {
      "needs_background": "light"
     },
     "output_type": "display_data"
    }
   ],
   "source": [
    "# Plot Coefficients\n",
    "pd.Series(ridge.coef_,xtrain.columns).sort_values().plot(kind = 'bar',figsize=(15,8))\n",
    "plt.show()\n",
    "\n",
    "# As we increase alpha, More features dissolve from the model"
   ]
  },
  {
   "cell_type": "code",
   "execution_count": 132,
   "metadata": {},
   "outputs": [],
   "source": [
    "# Function that tells me which predictors are 0s basis alpha values\n",
    "\n",
    "def ridges(alphas):\n",
    "    df = pd.DataFrame()\n",
    "    \n",
    "    df['Features'] = xtrain.columns\n",
    "    \n",
    "    #loop for all alphas\n",
    "    for i in alphas:\n",
    "        ridge = Ridge(alpha=i)\n",
    "        ridge.fit(xtrain,ytrain)\n",
    "        \n",
    "        col_name = 'Alpha = %.3f' %i\n",
    "        df[col_name] = np.round(ridge.coef_,3)\n",
    "    return df"
   ]
  },
  {
   "cell_type": "code",
   "execution_count": 133,
   "metadata": {},
   "outputs": [
    {
     "data": {
      "text/html": [
       "<div>\n",
       "<style scoped>\n",
       "    .dataframe tbody tr th:only-of-type {\n",
       "        vertical-align: middle;\n",
       "    }\n",
       "\n",
       "    .dataframe tbody tr th {\n",
       "        vertical-align: top;\n",
       "    }\n",
       "\n",
       "    .dataframe thead th {\n",
       "        text-align: right;\n",
       "    }\n",
       "</style>\n",
       "<table border=\"1\" class=\"dataframe\">\n",
       "  <thead>\n",
       "    <tr style=\"text-align: right;\">\n",
       "      <th></th>\n",
       "      <th>Features</th>\n",
       "      <th>Alpha = 0.100</th>\n",
       "      <th>Alpha = 0.010</th>\n",
       "      <th>Alpha = 0.500</th>\n",
       "      <th>Alpha = 1.000</th>\n",
       "      <th>Alpha = 2.000</th>\n",
       "      <th>Alpha = 5.000</th>\n",
       "      <th>Alpha = 10.000</th>\n",
       "    </tr>\n",
       "  </thead>\n",
       "  <tbody>\n",
       "    <tr>\n",
       "      <td>0</td>\n",
       "      <td>Item_MRP</td>\n",
       "      <td>15.634</td>\n",
       "      <td>15.634</td>\n",
       "      <td>15.634</td>\n",
       "      <td>15.634</td>\n",
       "      <td>15.634</td>\n",
       "      <td>15.634</td>\n",
       "      <td>15.635</td>\n",
       "    </tr>\n",
       "    <tr>\n",
       "      <td>1</td>\n",
       "      <td>Item_Visibility</td>\n",
       "      <td>-335.664</td>\n",
       "      <td>-336.798</td>\n",
       "      <td>-330.779</td>\n",
       "      <td>-325.002</td>\n",
       "      <td>-314.425</td>\n",
       "      <td>-288.775</td>\n",
       "      <td>-259.076</td>\n",
       "    </tr>\n",
       "    <tr>\n",
       "      <td>2</td>\n",
       "      <td>Item_Weight</td>\n",
       "      <td>-1.283</td>\n",
       "      <td>-1.283</td>\n",
       "      <td>-1.282</td>\n",
       "      <td>-1.280</td>\n",
       "      <td>-1.277</td>\n",
       "      <td>-1.268</td>\n",
       "      <td>-1.258</td>\n",
       "    </tr>\n",
       "    <tr>\n",
       "      <td>3</td>\n",
       "      <td>Vintage</td>\n",
       "      <td>-0.679</td>\n",
       "      <td>-0.675</td>\n",
       "      <td>-0.697</td>\n",
       "      <td>-0.720</td>\n",
       "      <td>-0.764</td>\n",
       "      <td>-0.891</td>\n",
       "      <td>-1.086</td>\n",
       "    </tr>\n",
       "    <tr>\n",
       "      <td>4</td>\n",
       "      <td>Item_Fat_Content_Non Edible</td>\n",
       "      <td>11.228</td>\n",
       "      <td>11.231</td>\n",
       "      <td>11.214</td>\n",
       "      <td>11.196</td>\n",
       "      <td>11.157</td>\n",
       "      <td>11.032</td>\n",
       "      <td>10.801</td>\n",
       "    </tr>\n",
       "    <tr>\n",
       "      <td>5</td>\n",
       "      <td>Item_Fat_Content_Regular</td>\n",
       "      <td>45.233</td>\n",
       "      <td>45.240</td>\n",
       "      <td>45.206</td>\n",
       "      <td>45.173</td>\n",
       "      <td>45.110</td>\n",
       "      <td>44.937</td>\n",
       "      <td>44.686</td>\n",
       "    </tr>\n",
       "    <tr>\n",
       "      <td>6</td>\n",
       "      <td>Outlet_Location_Type_Tier 2</td>\n",
       "      <td>8.062</td>\n",
       "      <td>8.007</td>\n",
       "      <td>8.303</td>\n",
       "      <td>8.605</td>\n",
       "      <td>9.211</td>\n",
       "      <td>11.037</td>\n",
       "      <td>14.100</td>\n",
       "    </tr>\n",
       "    <tr>\n",
       "      <td>7</td>\n",
       "      <td>Outlet_Location_Type_Tier 3</td>\n",
       "      <td>15.797</td>\n",
       "      <td>15.748</td>\n",
       "      <td>16.018</td>\n",
       "      <td>16.292</td>\n",
       "      <td>16.832</td>\n",
       "      <td>18.399</td>\n",
       "      <td>20.855</td>\n",
       "    </tr>\n",
       "    <tr>\n",
       "      <td>8</td>\n",
       "      <td>Outlet_Size_Small</td>\n",
       "      <td>-1313.876</td>\n",
       "      <td>-1314.127</td>\n",
       "      <td>-1312.757</td>\n",
       "      <td>-1311.354</td>\n",
       "      <td>-1308.538</td>\n",
       "      <td>-1300.050</td>\n",
       "      <td>-1285.945</td>\n",
       "    </tr>\n",
       "    <tr>\n",
       "      <td>9</td>\n",
       "      <td>Outlet_Type_Supermarket Type1</td>\n",
       "      <td>1958.420</td>\n",
       "      <td>1958.794</td>\n",
       "      <td>1956.750</td>\n",
       "      <td>1954.653</td>\n",
       "      <td>1950.434</td>\n",
       "      <td>1937.643</td>\n",
       "      <td>1916.193</td>\n",
       "    </tr>\n",
       "    <tr>\n",
       "      <td>10</td>\n",
       "      <td>Outlet_Type_Supermarket Type2</td>\n",
       "      <td>295.857</td>\n",
       "      <td>296.031</td>\n",
       "      <td>295.087</td>\n",
       "      <td>294.123</td>\n",
       "      <td>292.196</td>\n",
       "      <td>286.445</td>\n",
       "      <td>277.053</td>\n",
       "    </tr>\n",
       "    <tr>\n",
       "      <td>11</td>\n",
       "      <td>Outlet_Type_Supermarket Type3</td>\n",
       "      <td>1018.019</td>\n",
       "      <td>1018.097</td>\n",
       "      <td>1017.670</td>\n",
       "      <td>1017.231</td>\n",
       "      <td>1016.341</td>\n",
       "      <td>1013.604</td>\n",
       "      <td>1008.892</td>\n",
       "    </tr>\n",
       "    <tr>\n",
       "      <td>12</td>\n",
       "      <td>ItemType_Category_Perishables</td>\n",
       "      <td>13.129</td>\n",
       "      <td>13.132</td>\n",
       "      <td>13.114</td>\n",
       "      <td>13.095</td>\n",
       "      <td>13.060</td>\n",
       "      <td>12.965</td>\n",
       "      <td>12.827</td>\n",
       "    </tr>\n",
       "    <tr>\n",
       "      <td>13</td>\n",
       "      <td>Outlets_Others</td>\n",
       "      <td>-1018.019</td>\n",
       "      <td>-1018.097</td>\n",
       "      <td>-1017.670</td>\n",
       "      <td>-1017.231</td>\n",
       "      <td>-1016.341</td>\n",
       "      <td>-1013.604</td>\n",
       "      <td>-1008.892</td>\n",
       "    </tr>\n",
       "    <tr>\n",
       "      <td>14</td>\n",
       "      <td>ItemID_Cat_FD</td>\n",
       "      <td>28.396</td>\n",
       "      <td>28.404</td>\n",
       "      <td>28.363</td>\n",
       "      <td>28.322</td>\n",
       "      <td>28.244</td>\n",
       "      <td>28.031</td>\n",
       "      <td>27.723</td>\n",
       "    </tr>\n",
       "    <tr>\n",
       "      <td>15</td>\n",
       "      <td>ItemID_Cat_NC</td>\n",
       "      <td>11.228</td>\n",
       "      <td>11.231</td>\n",
       "      <td>11.214</td>\n",
       "      <td>11.196</td>\n",
       "      <td>11.157</td>\n",
       "      <td>11.032</td>\n",
       "      <td>10.801</td>\n",
       "    </tr>\n",
       "  </tbody>\n",
       "</table>\n",
       "</div>"
      ],
      "text/plain": [
       "                         Features  Alpha = 0.100  Alpha = 0.010  \\\n",
       "0                        Item_MRP         15.634         15.634   \n",
       "1                 Item_Visibility       -335.664       -336.798   \n",
       "2                     Item_Weight         -1.283         -1.283   \n",
       "3                         Vintage         -0.679         -0.675   \n",
       "4     Item_Fat_Content_Non Edible         11.228         11.231   \n",
       "5        Item_Fat_Content_Regular         45.233         45.240   \n",
       "6     Outlet_Location_Type_Tier 2          8.062          8.007   \n",
       "7     Outlet_Location_Type_Tier 3         15.797         15.748   \n",
       "8               Outlet_Size_Small      -1313.876      -1314.127   \n",
       "9   Outlet_Type_Supermarket Type1       1958.420       1958.794   \n",
       "10  Outlet_Type_Supermarket Type2        295.857        296.031   \n",
       "11  Outlet_Type_Supermarket Type3       1018.019       1018.097   \n",
       "12  ItemType_Category_Perishables         13.129         13.132   \n",
       "13                 Outlets_Others      -1018.019      -1018.097   \n",
       "14                  ItemID_Cat_FD         28.396         28.404   \n",
       "15                  ItemID_Cat_NC         11.228         11.231   \n",
       "\n",
       "    Alpha = 0.500  Alpha = 1.000  Alpha = 2.000  Alpha = 5.000  Alpha = 10.000  \n",
       "0          15.634         15.634         15.634         15.634          15.635  \n",
       "1        -330.779       -325.002       -314.425       -288.775        -259.076  \n",
       "2          -1.282         -1.280         -1.277         -1.268          -1.258  \n",
       "3          -0.697         -0.720         -0.764         -0.891          -1.086  \n",
       "4          11.214         11.196         11.157         11.032          10.801  \n",
       "5          45.206         45.173         45.110         44.937          44.686  \n",
       "6           8.303          8.605          9.211         11.037          14.100  \n",
       "7          16.018         16.292         16.832         18.399          20.855  \n",
       "8       -1312.757      -1311.354      -1308.538      -1300.050       -1285.945  \n",
       "9        1956.750       1954.653       1950.434       1937.643        1916.193  \n",
       "10        295.087        294.123        292.196        286.445         277.053  \n",
       "11       1017.670       1017.231       1016.341       1013.604        1008.892  \n",
       "12         13.114         13.095         13.060         12.965          12.827  \n",
       "13      -1017.670      -1017.231      -1016.341      -1013.604       -1008.892  \n",
       "14         28.363         28.322         28.244         28.031          27.723  \n",
       "15         11.214         11.196         11.157         11.032          10.801  "
      ]
     },
     "execution_count": 133,
     "metadata": {},
     "output_type": "execute_result"
    }
   ],
   "source": [
    "ridges([0.1, 0.01, 0.5, 1, 2, 5, 10])"
   ]
  },
  {
   "cell_type": "code",
   "execution_count": 138,
   "metadata": {},
   "outputs": [],
   "source": [
    "# Finding RMSE and R2 Behaviour basis  different Alphas\n",
    "from sklearn.metrics import r2_score\n",
    "rmse_train = []\n",
    "rmse_test = []\n",
    "al = []\n",
    "r2 = []\n",
    "\n",
    "alphas = [0.1, 0.09 ,0.01, 0.001, 0.5, 0.99, 1, 2, 5, 10, 20, 30, 50]\n",
    "\n",
    "for i in alphas:\n",
    "    ridge = Ridge(alpha=i,normalize=True)\n",
    "    al.append(i)\n",
    "    pred_train = ridge.fit(xtrain,ytrain).predict(xtrain)\n",
    "    pred_test = ridge.fit(xtrain,ytrain).predict(xtest)\n",
    "    \n",
    "    rmse_train.append(np.sqrt(mean_squared_error(ytrain,pred_train)))\n",
    "    rmse_test.append(np.sqrt(mean_squared_error(ytest,pred_test)))\n",
    "    r2.append(r2_score(ytest,pred_test))"
   ]
  },
  {
   "cell_type": "code",
   "execution_count": 139,
   "metadata": {},
   "outputs": [
    {
     "data": {
      "text/html": [
       "<div>\n",
       "<style scoped>\n",
       "    .dataframe tbody tr th:only-of-type {\n",
       "        vertical-align: middle;\n",
       "    }\n",
       "\n",
       "    .dataframe tbody tr th {\n",
       "        vertical-align: top;\n",
       "    }\n",
       "\n",
       "    .dataframe thead th {\n",
       "        text-align: right;\n",
       "    }\n",
       "</style>\n",
       "<table border=\"1\" class=\"dataframe\">\n",
       "  <thead>\n",
       "    <tr style=\"text-align: right;\">\n",
       "      <th></th>\n",
       "      <th>Alpha</th>\n",
       "      <th>RSq</th>\n",
       "      <th>RMSE_Train</th>\n",
       "      <th>RMSE_Test</th>\n",
       "    </tr>\n",
       "  </thead>\n",
       "  <tbody>\n",
       "    <tr>\n",
       "      <td>2</td>\n",
       "      <td>0.010</td>\n",
       "      <td>0.580370</td>\n",
       "      <td>1143.789921</td>\n",
       "      <td>1067.961214</td>\n",
       "    </tr>\n",
       "    <tr>\n",
       "      <td>3</td>\n",
       "      <td>0.001</td>\n",
       "      <td>0.580047</td>\n",
       "      <td>1143.579677</td>\n",
       "      <td>1068.372136</td>\n",
       "    </tr>\n",
       "    <tr>\n",
       "      <td>1</td>\n",
       "      <td>0.090</td>\n",
       "      <td>0.574081</td>\n",
       "      <td>1154.896164</td>\n",
       "      <td>1075.933896</td>\n",
       "    </tr>\n",
       "    <tr>\n",
       "      <td>0</td>\n",
       "      <td>0.100</td>\n",
       "      <td>0.572619</td>\n",
       "      <td>1156.947875</td>\n",
       "      <td>1077.779004</td>\n",
       "    </tr>\n",
       "    <tr>\n",
       "      <td>4</td>\n",
       "      <td>0.500</td>\n",
       "      <td>0.495541</td>\n",
       "      <td>1250.688407</td>\n",
       "      <td>1170.941119</td>\n",
       "    </tr>\n",
       "    <tr>\n",
       "      <td>5</td>\n",
       "      <td>0.990</td>\n",
       "      <td>0.415144</td>\n",
       "      <td>1338.485913</td>\n",
       "      <td>1260.801987</td>\n",
       "    </tr>\n",
       "    <tr>\n",
       "      <td>6</td>\n",
       "      <td>1.000</td>\n",
       "      <td>0.413741</td>\n",
       "      <td>1339.958960</td>\n",
       "      <td>1262.313640</td>\n",
       "    </tr>\n",
       "    <tr>\n",
       "      <td>7</td>\n",
       "      <td>2.000</td>\n",
       "      <td>0.307866</td>\n",
       "      <td>1446.331438</td>\n",
       "      <td>1371.568076</td>\n",
       "    </tr>\n",
       "    <tr>\n",
       "      <td>8</td>\n",
       "      <td>5.000</td>\n",
       "      <td>0.172892</td>\n",
       "      <td>1570.778225</td>\n",
       "      <td>1499.351560</td>\n",
       "    </tr>\n",
       "    <tr>\n",
       "      <td>9</td>\n",
       "      <td>10.000</td>\n",
       "      <td>0.099184</td>\n",
       "      <td>1634.557714</td>\n",
       "      <td>1564.733827</td>\n",
       "    </tr>\n",
       "    <tr>\n",
       "      <td>10</td>\n",
       "      <td>20.000</td>\n",
       "      <td>0.052442</td>\n",
       "      <td>1673.719614</td>\n",
       "      <td>1604.816126</td>\n",
       "    </tr>\n",
       "    <tr>\n",
       "      <td>11</td>\n",
       "      <td>30.000</td>\n",
       "      <td>0.034864</td>\n",
       "      <td>1688.212302</td>\n",
       "      <td>1619.633039</td>\n",
       "    </tr>\n",
       "    <tr>\n",
       "      <td>12</td>\n",
       "      <td>50.000</td>\n",
       "      <td>0.019940</td>\n",
       "      <td>1700.421434</td>\n",
       "      <td>1632.107220</td>\n",
       "    </tr>\n",
       "  </tbody>\n",
       "</table>\n",
       "</div>"
      ],
      "text/plain": [
       "     Alpha       RSq   RMSE_Train    RMSE_Test\n",
       "2    0.010  0.580370  1143.789921  1067.961214\n",
       "3    0.001  0.580047  1143.579677  1068.372136\n",
       "1    0.090  0.574081  1154.896164  1075.933896\n",
       "0    0.100  0.572619  1156.947875  1077.779004\n",
       "4    0.500  0.495541  1250.688407  1170.941119\n",
       "5    0.990  0.415144  1338.485913  1260.801987\n",
       "6    1.000  0.413741  1339.958960  1262.313640\n",
       "7    2.000  0.307866  1446.331438  1371.568076\n",
       "8    5.000  0.172892  1570.778225  1499.351560\n",
       "9   10.000  0.099184  1634.557714  1564.733827\n",
       "10  20.000  0.052442  1673.719614  1604.816126\n",
       "11  30.000  0.034864  1688.212302  1619.633039\n",
       "12  50.000  0.019940  1700.421434  1632.107220"
      ]
     },
     "execution_count": 139,
     "metadata": {},
     "output_type": "execute_result"
    }
   ],
   "source": [
    "ridge_df = pd.DataFrame({'Alpha' : al,\n",
    "                         'RSq' : r2,\n",
    "                         'RMSE_Train' : rmse_train,\n",
    "                         'RMSE_Test' : rmse_test})\n",
    "ridge_df.sort_values('RSq',ascending=False)\n",
    "\n",
    "# Higher Values of Alpha lesser the Model Complexity\n",
    "# R2 Reduces - Error Increases\n",
    "# This is Point where Prediction power is Compromised"
   ]
  },
  {
   "cell_type": "code",
   "execution_count": 140,
   "metadata": {},
   "outputs": [
    {
     "data": {
      "image/png": "[encoded data removed]",
      "text/plain": [
       "<Figure size 1080x576 with 1 Axes>"
      ]
     },
     "metadata": {
      "needs_background": "light"
     },
     "output_type": "display_data"
    }
   ],
   "source": [
    "plt.figure(figsize=(15,8))\n",
    "plt.plot(ridge_df.RMSE_Train,label = 'Training Error')\n",
    "plt.plot(ridge_df.RMSE_Test,label = 'Testing Error')\n",
    "plt.legend()\n",
    "plt.show()"
   ]
  },
  {
   "cell_type": "code",
   "execution_count": 142,
   "metadata": {},
   "outputs": [
    {
     "name": "stdout",
     "output_type": "stream",
     "text": [
      "Train Error : 1156.9478754534744\n",
      "Test Error : 1077.779004372941\n"
     ]
    }
   ],
   "source": [
    "# If Test Error is Higher Than Training Error\n",
    "# You need to increase test %age\n",
    "# Apply CV to find the Same\n",
    "\n",
    "ridgecv = RidgeCV(cv=10,normalize=True)\n",
    "\n",
    "pred_train = ridgecv.fit(xtrain,ytrain).predict(xtrain)\n",
    "pred_test = ridgecv.fit(xtrain,ytrain).predict(xtest)\n",
    "\n",
    "print('Train Error :',np.sqrt(mean_squared_error(ytrain,pred_train)))\n",
    "print('Test Error :',np.sqrt(mean_squared_error(ytest,pred_test)))\n"
   ]
  },
  {
   "cell_type": "code",
   "execution_count": 143,
   "metadata": {},
   "outputs": [
    {
     "data": {
      "text/plain": [
       "0.1"
      ]
     },
     "execution_count": 143,
     "metadata": {},
     "output_type": "execute_result"
    }
   ],
   "source": [
    "ridgecv.alpha_"
   ]
  },
  {
   "cell_type": "markdown",
   "metadata": {},
   "source": [
    "## Elastic Net Regression"
   ]
  },
  {
   "cell_type": "code",
   "execution_count": 149,
   "metadata": {},
   "outputs": [
    {
     "name": "stdout",
     "output_type": "stream",
     "text": [
      "Train Error : 1143.6031595269944\n",
      "Test Error : 1068.2214542755016\n"
     ]
    }
   ],
   "source": [
    "from sklearn.linear_model import ElasticNet\n",
    "enet = ElasticNet(alpha=0.000001,normalize=True,max_iter=1000)\n",
    "\n",
    "pred_train = enet.fit(xtrain,ytrain).predict(xtrain)\n",
    "pred_test = enet.fit(xtrain,ytrain).predict(xtest)\n",
    "\n",
    "print('Train Error :', np.sqrt(mean_squared_error(ytrain,pred_train)))\n",
    "print('Test Error :', np.sqrt(mean_squared_error(ytest,pred_test)))"
   ]
  },
  {
   "cell_type": "markdown",
   "metadata": {},
   "source": [
    "                **Enet Error : LR_Error + Ridge_Penalty*Lambda + Lasso_Penalty*Lambda**"
   ]
  },
  {
   "cell_type": "code",
   "execution_count": 160,
   "metadata": {},
   "outputs": [
    {
     "data": {
      "text/plain": [
       "GridSearchCV(cv=5, error_score='raise-deprecating',\n",
       "             estimator=ElasticNet(alpha=1.0, copy_X=True, fit_intercept=True,\n",
       "                                  l1_ratio=0.5, max_iter=1000, normalize=False,\n",
       "                                  positive=False, precompute=False,\n",
       "                                  random_state=None, selection='cyclic',\n",
       "                                  tol=0.0001, warm_start=False),\n",
       "             iid='warn', n_jobs=None,\n",
       "             param_grid={'alpha': [0.1, 0.001, 1, 2, 5]},\n",
       "             pre_dispatch='2*n_jobs', refit=True, return_train_score=False,\n",
       "             scoring=None, verbose=0)"
      ]
     },
     "execution_count": 160,
     "metadata": {},
     "output_type": "execute_result"
    }
   ],
   "source": [
    "# GridSearch CV\n",
    "\n",
    "from sklearn.model_selection import GridSearchCV\n",
    "\n",
    "\n",
    "alphas = {'alpha':[0.1,0.001,1,2,5]}\n",
    "\n",
    "grid = GridSearchCV(estimator=ElasticNet(),param_grid=alphas,cv = 5) #Estimator --> ElasticNet/Ridge/Lasso\n",
    "grid.fit(xtrain,ytrain)"
   ]
  },
  {
   "cell_type": "code",
   "execution_count": 161,
   "metadata": {},
   "outputs": [
    {
     "data": {
      "text/plain": [
       "{'alpha': 0.001}"
      ]
     },
     "execution_count": 161,
     "metadata": {},
     "output_type": "execute_result"
    }
   ],
   "source": [
    "grid.best_params_"
   ]
  },
  {
   "cell_type": "code",
   "execution_count": null,
   "metadata": {},
   "outputs": [],
   "source": []
  }
 ],
 "metadata": {
  "kernelspec": {
   "display_name": "Python 3",
   "language": "python",
   "name": "python3"
  },
  "language_info": {
   "codemirror_mode": {
    "name": "ipython",
    "version": 3
   },
   "file_extension": ".py",
   "mimetype": "text/x-python",
   "name": "python",
   "nbconvert_exporter": "python",
   "pygments_lexer": "ipython3",
   "version": "3.7.6"
  }
 },
 "nbformat": 4,
 "nbformat_minor": 2
}
